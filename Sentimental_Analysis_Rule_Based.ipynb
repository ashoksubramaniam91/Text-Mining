{
 "cells": [
  {
   "cell_type": "markdown",
   "metadata": {},
   "source": [
    "# Sentimental Analysis\n",
    "1. Rule based sentiment analysis\n",
    "    - Pros : can be used even if we dont have labels\n",
    "    - cons\n",
    "         - cannot be used for regional languages\n",
    "         - cannot understand sarcasm\n",
    "           \n",
    "2. Document classification\n",
    "    - pros : can be applied even for regional languages/analysis\n",
    "    - cons : you need labelled dataset to start with, which is time consuming (ex: hotstar data)\n",
    "       "
   ]
  },
  {
   "cell_type": "code",
   "execution_count": 45,
   "metadata": {},
   "outputs": [],
   "source": [
    "#document classification is already done ex: imdb"
   ]
  },
  {
   "cell_type": "code",
   "execution_count": 46,
   "metadata": {},
   "outputs": [],
   "source": [
    "#rule based-there wont be any labels--like clustering"
   ]
  },
  {
   "cell_type": "markdown",
   "metadata": {},
   "source": [
    "# VADER : valence Aware Dictionary and sEtiment Reasoner (rule based algorithm)"
   ]
  },
  {
   "cell_type": "code",
   "execution_count": 48,
   "metadata": {},
   "outputs": [],
   "source": [
    "from nltk.sentiment import SentimentIntensityAnalyzer\n",
    "calc_senti=SentimentIntensityAnalyzer()"
   ]
  },
  {
   "cell_type": "code",
   "execution_count": 49,
   "metadata": {},
   "outputs": [
    {
     "name": "stdout",
     "output_type": "stream",
     "text": [
      "{'neg': 0.0, 'neu': 0.192, 'pos': 0.808, 'compound': 0.6369}\n",
      "{'neg': 0.0, 'neu': 0.169, 'pos': 0.831, 'compound': 0.7125}\n",
      "{'neg': 0.0, 'neu': 0.112, 'pos': 0.888, 'compound': 0.8374}\n"
     ]
    }
   ],
   "source": [
    "print(calc_senti.polarity_scores('i love india'))\n",
    "print(calc_senti.polarity_scores('i LOVE india'))\n",
    "print(calc_senti.polarity_scores('i LOVE india :)'))"
   ]
  },
  {
   "cell_type": "code",
   "execution_count": 51,
   "metadata": {},
   "outputs": [],
   "source": [
    "#Compund score is always between -1 to +1\n",
    "#individual score is -4 to +4"
   ]
  },
  {
   "cell_type": "code",
   "execution_count": 53,
   "metadata": {},
   "outputs": [
    {
     "name": "stdout",
     "output_type": "stream",
     "text": [
      "0.6369\n"
     ]
    }
   ],
   "source": [
    "print(calc_senti.polarity_scores('i love india')['compound'])"
   ]
  },
  {
   "cell_type": "code",
   "execution_count": null,
   "metadata": {},
   "outputs": [],
   "source": []
  }
 ],
 "metadata": {
  "kernelspec": {
   "display_name": "Python 3",
   "language": "python",
   "name": "python3"
  },
  "language_info": {
   "codemirror_mode": {
    "name": "ipython",
    "version": 3
   },
   "file_extension": ".py",
   "mimetype": "text/x-python",
   "name": "python",
   "nbconvert_exporter": "python",
   "pygments_lexer": "ipython3",
   "version": "3.7.1"
  }
 },
 "nbformat": 4,
 "nbformat_minor": 2
}
