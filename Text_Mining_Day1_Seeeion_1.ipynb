{
 "cells": [
  {
   "cell_type": "code",
   "execution_count": 1,
   "metadata": {},
   "outputs": [],
   "source": [
    "import pandas as pd\n",
    "import numpy as np\n",
    "import nltk"
   ]
  },
  {
   "cell_type": "code",
   "execution_count": 2,
   "metadata": {},
   "outputs": [
    {
     "name": "stderr",
     "output_type": "stream",
     "text": [
      "[nltk_data] Downloading package stopwords to\n",
      "[nltk_data]     C:\\Users\\Ashok\\AppData\\Roaming\\nltk_data...\n",
      "[nltk_data]   Package stopwords is already up-to-date!\n",
      "[nltk_data] Downloading package punkt to\n",
      "[nltk_data]     C:\\Users\\Ashok\\AppData\\Roaming\\nltk_data...\n",
      "[nltk_data]   Package punkt is already up-to-date!\n",
      "[nltk_data] Downloading package vader_lexicon to\n",
      "[nltk_data]     C:\\Users\\Ashok\\AppData\\Roaming\\nltk_data...\n"
     ]
    },
    {
     "data": {
      "text/plain": [
       "True"
      ]
     },
     "execution_count": 2,
     "metadata": {},
     "output_type": "execute_result"
    }
   ],
   "source": [
    "#nltk.download('stopwords')\n",
    "#nltk.download('punkt')\n",
    "#nltk.download('vader_lexicon')    #sentimental analysis"
   ]
  },
  {
   "cell_type": "code",
   "execution_count": 5,
   "metadata": {},
   "outputs": [],
   "source": [
    "### Datasets URL\n",
    "#https://github.com/skathirmani/datasets\n",
    "#-narendra modi tweets\n",
    "#-amazon reviews\n",
    "#-hotstar reviews\n",
    "#-imdb sentiment\n",
    "\n",
    "#goto github and download data or\n",
    "# click on narendra modi tweets-view raw\n",
    "#take the url \n"
   ]
  },
  {
   "cell_type": "code",
   "execution_count": 6,
   "metadata": {},
   "outputs": [
    {
     "data": {
      "text/html": [
       "<div>\n",
       "<style scoped>\n",
       "    .dataframe tbody tr th:only-of-type {\n",
       "        vertical-align: middle;\n",
       "    }\n",
       "\n",
       "    .dataframe tbody tr th {\n",
       "        vertical-align: top;\n",
       "    }\n",
       "\n",
       "    .dataframe thead th {\n",
       "        text-align: right;\n",
       "    }\n",
       "</style>\n",
       "<table border=\"1\" class=\"dataframe\">\n",
       "  <thead>\n",
       "    <tr style=\"text-align: right;\">\n",
       "      <th></th>\n",
       "      <th>id</th>\n",
       "      <th>retweets_count</th>\n",
       "      <th>favorite_count</th>\n",
       "      <th>created_at</th>\n",
       "      <th>text</th>\n",
       "      <th>lang</th>\n",
       "      <th>retweeted</th>\n",
       "      <th>followers_count</th>\n",
       "      <th>friends_count</th>\n",
       "      <th>hashtags_count</th>\n",
       "      <th>description</th>\n",
       "      <th>location</th>\n",
       "      <th>background_image_url</th>\n",
       "      <th>source</th>\n",
       "    </tr>\n",
       "  </thead>\n",
       "  <tbody>\n",
       "    <tr>\n",
       "      <th>0</th>\n",
       "      <td>8.263846e+17</td>\n",
       "      <td>1406.0</td>\n",
       "      <td>4903.0</td>\n",
       "      <td>2017-01-31 11:00:07</td>\n",
       "      <td>The President's address wonderfully encapsulat...</td>\n",
       "      <td>en</td>\n",
       "      <td>False</td>\n",
       "      <td>26809964.0</td>\n",
       "      <td>1641.0</td>\n",
       "      <td>1.0</td>\n",
       "      <td>Prime Minister of India</td>\n",
       "      <td>India</td>\n",
       "      <td>http://pbs.twimg.com/profile_background_images...</td>\n",
       "      <td>Twitter Web Client</td>\n",
       "    </tr>\n",
       "    <tr>\n",
       "      <th>1</th>\n",
       "      <td>8.263843e+17</td>\n",
       "      <td>907.0</td>\n",
       "      <td>2877.0</td>\n",
       "      <td>2017-01-31 10:59:12</td>\n",
       "      <td>Rashtrapati Ji's address to both Houses of Par...</td>\n",
       "      <td>en</td>\n",
       "      <td>False</td>\n",
       "      <td>26809964.0</td>\n",
       "      <td>1641.0</td>\n",
       "      <td>0.0</td>\n",
       "      <td>Prime Minister of India</td>\n",
       "      <td>India</td>\n",
       "      <td>http://pbs.twimg.com/profile_background_images...</td>\n",
       "      <td>Twitter Web Client</td>\n",
       "    </tr>\n",
       "    <tr>\n",
       "      <th>2</th>\n",
       "      <td>8.263827e+17</td>\n",
       "      <td>694.0</td>\n",
       "      <td>0.0</td>\n",
       "      <td>2017-01-31 10:52:33</td>\n",
       "      <td>RT @PMOIndia: Empowering the marginalised. htt...</td>\n",
       "      <td>en</td>\n",
       "      <td>False</td>\n",
       "      <td>26809964.0</td>\n",
       "      <td>1641.0</td>\n",
       "      <td>0.0</td>\n",
       "      <td>Prime Minister of India</td>\n",
       "      <td>India</td>\n",
       "      <td>http://pbs.twimg.com/profile_background_images...</td>\n",
       "      <td>Twitter Web Client</td>\n",
       "    </tr>\n",
       "    <tr>\n",
       "      <th>3</th>\n",
       "      <td>8.263826e+17</td>\n",
       "      <td>666.0</td>\n",
       "      <td>0.0</td>\n",
       "      <td>2017-01-31 10:52:22</td>\n",
       "      <td>RT @PMOIndia: Commitment to welfare of farmers...</td>\n",
       "      <td>en</td>\n",
       "      <td>False</td>\n",
       "      <td>26809964.0</td>\n",
       "      <td>1641.0</td>\n",
       "      <td>0.0</td>\n",
       "      <td>Prime Minister of India</td>\n",
       "      <td>India</td>\n",
       "      <td>http://pbs.twimg.com/profile_background_images...</td>\n",
       "      <td>Twitter Web Client</td>\n",
       "    </tr>\n",
       "    <tr>\n",
       "      <th>4</th>\n",
       "      <td>8.263826e+17</td>\n",
       "      <td>716.0</td>\n",
       "      <td>0.0</td>\n",
       "      <td>2017-01-31 10:52:16</td>\n",
       "      <td>RT @PMOIndia: Improving the quality of life fo...</td>\n",
       "      <td>en</td>\n",
       "      <td>False</td>\n",
       "      <td>26809964.0</td>\n",
       "      <td>1641.0</td>\n",
       "      <td>0.0</td>\n",
       "      <td>Prime Minister of India</td>\n",
       "      <td>India</td>\n",
       "      <td>http://pbs.twimg.com/profile_background_images...</td>\n",
       "      <td>Twitter Web Client</td>\n",
       "    </tr>\n",
       "  </tbody>\n",
       "</table>\n",
       "</div>"
      ],
      "text/plain": [
       "             id  retweets_count  favorite_count           created_at  \\\n",
       "0  8.263846e+17          1406.0          4903.0  2017-01-31 11:00:07   \n",
       "1  8.263843e+17           907.0          2877.0  2017-01-31 10:59:12   \n",
       "2  8.263827e+17           694.0             0.0  2017-01-31 10:52:33   \n",
       "3  8.263826e+17           666.0             0.0  2017-01-31 10:52:22   \n",
       "4  8.263826e+17           716.0             0.0  2017-01-31 10:52:16   \n",
       "\n",
       "                                                text lang  retweeted  \\\n",
       "0  The President's address wonderfully encapsulat...   en      False   \n",
       "1  Rashtrapati Ji's address to both Houses of Par...   en      False   \n",
       "2  RT @PMOIndia: Empowering the marginalised. htt...   en      False   \n",
       "3  RT @PMOIndia: Commitment to welfare of farmers...   en      False   \n",
       "4  RT @PMOIndia: Improving the quality of life fo...   en      False   \n",
       "\n",
       "   followers_count  friends_count  hashtags_count              description  \\\n",
       "0       26809964.0         1641.0             1.0  Prime Minister of India   \n",
       "1       26809964.0         1641.0             0.0  Prime Minister of India   \n",
       "2       26809964.0         1641.0             0.0  Prime Minister of India   \n",
       "3       26809964.0         1641.0             0.0  Prime Minister of India   \n",
       "4       26809964.0         1641.0             0.0  Prime Minister of India   \n",
       "\n",
       "  location                               background_image_url  \\\n",
       "0    India  http://pbs.twimg.com/profile_background_images...   \n",
       "1    India  http://pbs.twimg.com/profile_background_images...   \n",
       "2    India  http://pbs.twimg.com/profile_background_images...   \n",
       "3    India  http://pbs.twimg.com/profile_background_images...   \n",
       "4    India  http://pbs.twimg.com/profile_background_images...   \n",
       "\n",
       "               source  \n",
       "0  Twitter Web Client  \n",
       "1  Twitter Web Client  \n",
       "2  Twitter Web Client  \n",
       "3  Twitter Web Client  \n",
       "4  Twitter Web Client  "
      ]
     },
     "execution_count": 6,
     "metadata": {},
     "output_type": "execute_result"
    }
   ],
   "source": [
    "url='https://raw.githubusercontent.com/skathirmani/datasets/master/narendramodi_tweets.csv'\n",
    "modi=pd.read_csv(url)\n",
    "modi.head()"
   ]
  },
  {
   "cell_type": "code",
   "execution_count": 8,
   "metadata": {},
   "outputs": [
    {
     "data": {
      "text/plain": [
       "(3220, 14)"
      ]
     },
     "execution_count": 8,
     "metadata": {},
     "output_type": "execute_result"
    }
   ],
   "source": [
    "modi.shape #semi structured---text and non text cols"
   ]
  },
  {
   "cell_type": "markdown",
   "metadata": {},
   "source": [
    "this can be done on any twitter data"
   ]
  },
  {
   "cell_type": "code",
   "execution_count": 9,
   "metadata": {},
   "outputs": [],
   "source": [
    "#time period to #know the time period"
   ]
  },
  {
   "cell_type": "code",
   "execution_count": 10,
   "metadata": {},
   "outputs": [
    {
     "name": "stdout",
     "output_type": "stream",
     "text": [
      "<class 'pandas.core.frame.DataFrame'>\n",
      "RangeIndex: 3220 entries, 0 to 3219\n",
      "Data columns (total 14 columns):\n",
      "id                      3220 non-null float64\n",
      "retweets_count          3220 non-null float64\n",
      "favorite_count          3220 non-null float64\n",
      "created_at              3220 non-null object\n",
      "text                    3220 non-null object\n",
      "lang                    3220 non-null object\n",
      "retweeted               3220 non-null bool\n",
      "followers_count         3220 non-null float64\n",
      "friends_count           3220 non-null float64\n",
      "hashtags_count          3220 non-null float64\n",
      "description             3220 non-null object\n",
      "location                3220 non-null object\n",
      "background_image_url    3220 non-null object\n",
      "source                  3220 non-null object\n",
      "dtypes: bool(1), float64(6), object(7)\n",
      "memory usage: 330.3+ KB\n"
     ]
    }
   ],
   "source": [
    "modi.info()"
   ]
  },
  {
   "cell_type": "code",
   "execution_count": 11,
   "metadata": {},
   "outputs": [],
   "source": [
    "#convert created_at to date column"
   ]
  },
  {
   "cell_type": "code",
   "execution_count": 13,
   "metadata": {},
   "outputs": [
    {
     "name": "stdout",
     "output_type": "stream",
     "text": [
      "<class 'pandas.core.frame.DataFrame'>\n",
      "RangeIndex: 3220 entries, 0 to 3219\n",
      "Data columns (total 14 columns):\n",
      "id                      3220 non-null float64\n",
      "retweets_count          3220 non-null float64\n",
      "favorite_count          3220 non-null float64\n",
      "created_at              3220 non-null datetime64[ns]\n",
      "text                    3220 non-null object\n",
      "lang                    3220 non-null object\n",
      "retweeted               3220 non-null bool\n",
      "followers_count         3220 non-null float64\n",
      "friends_count           3220 non-null float64\n",
      "hashtags_count          3220 non-null float64\n",
      "description             3220 non-null object\n",
      "location                3220 non-null object\n",
      "background_image_url    3220 non-null object\n",
      "source                  3220 non-null object\n",
      "dtypes: bool(1), datetime64[ns](1), float64(6), object(6)\n",
      "memory usage: 330.3+ KB\n"
     ]
    }
   ],
   "source": [
    "modi['created_at']=pd.to_datetime(modi['created_at'])\n",
    "modi.info() #now it is converted to date time"
   ]
  },
  {
   "cell_type": "code",
   "execution_count": 14,
   "metadata": {},
   "outputs": [
    {
     "data": {
      "text/plain": [
       "(Timestamp('2016-03-09 12:22:10'), Timestamp('2017-01-31 11:00:07'))"
      ]
     },
     "execution_count": 14,
     "metadata": {},
     "output_type": "execute_result"
    }
   ],
   "source": [
    "modi['created_at'].min(),modi['created_at'].max()"
   ]
  },
  {
   "cell_type": "code",
   "execution_count": 15,
   "metadata": {},
   "outputs": [],
   "source": [
    "#so the date range is march-2016 to jan-2017"
   ]
  },
  {
   "cell_type": "code",
   "execution_count": 17,
   "metadata": {},
   "outputs": [],
   "source": [
    "#numerical column -  distribution analysis ,min,max....(bar,hist,pairplot)\n",
    "#categorical - frequency analysis (count)\n",
    "#text - bag of words analysis (collection of unique words along with freq)"
   ]
  },
  {
   "cell_type": "code",
   "execution_count": 18,
   "metadata": {},
   "outputs": [],
   "source": [
    "#from bag of words- identify the frequency- then take 50- den do word cloud"
   ]
  },
  {
   "cell_type": "code",
   "execution_count": 19,
   "metadata": {},
   "outputs": [
    {
     "name": "stderr",
     "output_type": "stream",
     "text": [
      "'pip.install' is not recognized as an internal or external command,\n",
      "operable program or batch file.\n"
     ]
    }
   ],
   "source": [
    "!pip.install wordcloud #download wordcloud"
   ]
  },
  {
   "cell_type": "markdown",
   "metadata": {},
   "source": [
    "# Identify bag of words"
   ]
  },
  {
   "cell_type": "code",
   "execution_count": 20,
   "metadata": {},
   "outputs": [],
   "source": [
    "from wordcloud import WordCloud"
   ]
  },
  {
   "cell_type": "code",
   "execution_count": 21,
   "metadata": {},
   "outputs": [],
   "source": [
    "import matplotlib.pyplot as plt"
   ]
  },
  {
   "cell_type": "code",
   "execution_count": 23,
   "metadata": {},
   "outputs": [
    {
     "data": {
      "text/plain": [
       "<matplotlib.image.AxesImage at 0xcaf5908>"
      ]
     },
     "execution_count": 23,
     "metadata": {},
     "output_type": "execute_result"
    },
    {
     "data": {
      "image/png": "[encoded data removed]",
      "text/plain": [
       "<Figure size 432x288 with 1 Axes>"
      ]
     },
     "metadata": {
      "needs_background": "light"
     },
     "output_type": "display_data"
    }
   ],
   "source": [
    "#example\n",
    "\n",
    "wc=WordCloud().generate('i love India. India is my country')  #have to pass single string\n",
    "plt.imshow(wc)"
   ]
  },
  {
   "cell_type": "code",
   "execution_count": 24,
   "metadata": {},
   "outputs": [],
   "source": [
    "# the word india is used twice so India is shown in big font, c=since the freq is high"
   ]
  },
  {
   "cell_type": "markdown",
   "metadata": {},
   "source": [
    "now in our data we have multiple data in each rows"
   ]
  },
  {
   "cell_type": "code",
   "execution_count": 25,
   "metadata": {},
   "outputs": [],
   "source": [
    "#how to add all the strings here we have 3000"
   ]
  },
  {
   "cell_type": "code",
   "execution_count": 28,
   "metadata": {},
   "outputs": [
    {
     "data": {
      "text/plain": [
       "('abcd', 'a-b-c-d')"
      ]
     },
     "execution_count": 28,
     "metadata": {},
     "output_type": "execute_result"
    }
   ],
   "source": [
    "x=['a','b','c','d']\n",
    "''.join(x)"
   ]
  },
  {
   "cell_type": "code",
   "execution_count": 30,
   "metadata": {},
   "outputs": [
    {
     "data": {
      "text/plain": [
       "'a-b-c-d'"
      ]
     },
     "execution_count": 30,
     "metadata": {},
     "output_type": "execute_result"
    }
   ],
   "source": [
    "'-'.join(x)  #using seperator"
   ]
  },
  {
   "cell_type": "code",
   "execution_count": 32,
   "metadata": {},
   "outputs": [
    {
     "data": {
      "text/plain": [
       "<matplotlib.image.AxesImage at 0xcffd710>"
      ]
     },
     "execution_count": 32,
     "metadata": {},
     "output_type": "execute_result"
    },
    {
     "data": {
      "image/png": "[encoded data removed]",
      "text/plain": [
       "<Figure size 432x288 with 1 Axes>"
      ]
     },
     "metadata": {
      "needs_background": "light"
     },
     "output_type": "display_data"
    }
   ],
   "source": [
    "wc=WordCloud(background_color='white').generate(''.join(modi['text']))\n",
    "plt.imshow(wc)"
   ]
  },
  {
   "cell_type": "code",
   "execution_count": 33,
   "metadata": {},
   "outputs": [],
   "source": [
    "#https,amp,co we have to remove that since its part of url"
   ]
  },
  {
   "cell_type": "code",
   "execution_count": 34,
   "metadata": {},
   "outputs": [],
   "source": [
    "#from this we can see that most of the hes talking about india,people,visit,natian,development...etc"
   ]
  },
  {
   "cell_type": "code",
   "execution_count": 35,
   "metadata": {},
   "outputs": [],
   "source": [
    "# we have to do text cleaning"
   ]
  },
  {
   "cell_type": "code",
   "execution_count": 40,
   "metadata": {},
   "outputs": [
    {
     "data": {
      "text/plain": [
       "list"
      ]
     },
     "execution_count": 40,
     "metadata": {},
     "output_type": "execute_result"
    }
   ],
   "source": [
    "stopwords=nltk.corpus.stopwords.words('english') #default stopwords (common  might not be used for most of the analysis)\n",
    "type(stopwords)"
   ]
  },
  {
   "cell_type": "code",
   "execution_count": 45,
   "metadata": {},
   "outputs": [
    {
     "data": {
      "text/plain": [
       "187"
      ]
     },
     "execution_count": 45,
     "metadata": {},
     "output_type": "execute_result"
    }
   ],
   "source": [
    "len(stopwords) #by default it will wliminate these 179 words"
   ]
  },
  {
   "cell_type": "code",
   "execution_count": 38,
   "metadata": {},
   "outputs": [],
   "source": [
    "#depending on the analysis we shld  remove or not\n",
    "#for sentimental analysis stopwords are most imp--increase the polarity in the sentences"
   ]
  },
  {
   "cell_type": "markdown",
   "metadata": {},
   "source": [
    "# Bag of word analysis"
   ]
  },
  {
   "cell_type": "code",
   "execution_count": 46,
   "metadata": {},
   "outputs": [
    {
     "data": {
      "text/plain": [
       "<matplotlib.image.AxesImage at 0xd435390>"
      ]
     },
     "execution_count": 46,
     "metadata": {},
     "output_type": "execute_result"
    },
    {
     "data": {
      "image/png": "[encoded data removed]",
      "text/plain": [
       "<Figure size 864x720 with 1 Axes>"
      ]
     },
     "metadata": {
      "needs_background": "light"
     },
     "output_type": "display_data"
    }
   ],
   "source": [
    "stopwords.extend(['https','co','amp','RT'])    #to add https/co/url/RT-retweet   #custom stop words, 179 + these words #specific to the domain\n",
    "wc=WordCloud(background_color='white',stopwords=stopwords).generate(''.join(modi['text']))\n",
    "plt.figure(figsize=(12,10))\n",
    "plt.imshow(wc)"
   ]
  },
  {
   "cell_type": "code",
   "execution_count": 43,
   "metadata": {},
   "outputs": [],
   "source": [
    "#this is much better compared to the original one"
   ]
  },
  {
   "cell_type": "markdown",
   "metadata": {},
   "source": [
    " # Text cleaning"
   ]
  },
  {
   "cell_type": "markdown",
   "metadata": {},
   "source": [
    "1. stopwords (common+custom)\n",
    "\n",
    "2. mix cases (convert everything into lowercase,nothing wrong in capital letters) # stopwords are lower\n",
    "\n",
    "3. special characters\n",
    "\n",
    "4. Identifying root words-called as stemming\n",
    "\n",
    " #example play,palyed,playing,plays (same word in diff tenses) two types\n",
    " \n",
    " #a. stemming\n",
    " \n",
    " #b. lematization"
   ]
  },
  {
   "cell_type": "code",
   "execution_count": 48,
   "metadata": {},
   "outputs": [],
   "source": [
    "#when we try to identify rootword for organization it will find as organ, which has different meaning"
   ]
  },
  {
   "cell_type": "code",
   "execution_count": 54,
   "metadata": {},
   "outputs": [],
   "source": [
    "#for sentimental analysis using polarity method--we will not do any text cleaning, coz every part has meaning, will impact \n",
    "#if we remove emoticons, like smiley--we will miss those data"
   ]
  },
  {
   "cell_type": "code",
   "execution_count": 55,
   "metadata": {},
   "outputs": [],
   "source": [
    "#for classification, summarization we do cleaning..etc"
   ]
  },
  {
   "cell_type": "markdown",
   "metadata": {},
   "source": [
    "1. convert everything to lowercase\n",
    "2. remove stopwords\n",
    "3. remove special characters\n",
    "4. identify root of the words"
   ]
  },
  {
   "cell_type": "markdown",
   "metadata": {},
   "source": [
    "# convert everything to lowercase"
   ]
  },
  {
   "cell_type": "code",
   "execution_count": 58,
   "metadata": {},
   "outputs": [
    {
     "data": {
      "text/plain": [
       "0    the president's address wonderfully encapsulat...\n",
       "1    rashtrapati ji's address to both houses of par...\n",
       "2    rt @pmoindia: empowering the marginalised. htt...\n",
       "3    rt @pmoindia: commitment to welfare of farmers...\n",
       "4    rt @pmoindia: improving the quality of life fo...\n",
       "Name: text, dtype: object"
      ]
     },
     "execution_count": 58,
     "metadata": {},
     "output_type": "execute_result"
    }
   ],
   "source": [
    "docs=modi['text'].str.lower() #converting to lower cases\n",
    "docs.head()"
   ]
  },
  {
   "cell_type": "markdown",
   "metadata": {},
   "source": [
    "# apply regular exp to retain only alphabets, has symbol and @ symbol\n",
    "#remove special characters"
   ]
  },
  {
   "cell_type": "code",
   "execution_count": 82,
   "metadata": {},
   "outputs": [],
   "source": [
    "#docs.str.replace('[^a-zA-z0-9#@]',' ')"
   ]
  },
  {
   "cell_type": "code",
   "execution_count": 77,
   "metadata": {},
   "outputs": [
    {
     "data": {
      "text/plain": [
       "0                 this is - sentence with numbers 123\n",
       "1    this is - sentence with sepci-l ch-r-cters $#@!@\n",
       "2                   THIS is - sentence WITH MIX c-ses\n",
       "dtype: object"
      ]
     },
     "execution_count": 77,
     "metadata": {},
     "output_type": "execute_result"
    }
   ],
   "source": [
    "#example\n",
    "x=pd.Series(['this is a sentence with numbers 123',\n",
    "            'this is a sentence with sepcial characters $#@!@',\n",
    "            'THIS is a sentence WITH MIX cases'])\n",
    "x.str.replace('a','-')#to replace a with -"
   ]
  },
  {
   "cell_type": "code",
   "execution_count": 78,
   "metadata": {},
   "outputs": [
    {
     "data": {
      "text/plain": [
       "0              this is  sentence with numbers 123\n",
       "1    this is  sentence with sepcil chrcters $#@!@\n",
       "2                 THIS is  sentence WITH MIX cses\n",
       "dtype: object"
      ]
     },
     "execution_count": 78,
     "metadata": {},
     "output_type": "execute_result"
    }
   ],
   "source": [
    "x.str.replace('a','')#to remove a"
   ]
  },
  {
   "cell_type": "code",
   "execution_count": 79,
   "metadata": {},
   "outputs": [
    {
     "data": {
      "text/plain": [
       "0                    this is a sentence with numbers \n",
       "1    this is a sentence with sepcial characters $#@!@\n",
       "2                   THIS is a sentence WITH MIX cases\n",
       "dtype: object"
      ]
     },
     "execution_count": 79,
     "metadata": {},
     "output_type": "execute_result"
    }
   ],
   "source": [
    "x.str.replace('[0-9]','')"
   ]
  },
  {
   "cell_type": "code",
   "execution_count": 80,
   "metadata": {},
   "outputs": [
    {
     "data": {
      "text/plain": [
       "0                  123\n",
       "1                $#@!@\n",
       "2    THIS    WITH MIX \n",
       "dtype: object"
      ]
     },
     "execution_count": 80,
     "metadata": {},
     "output_type": "execute_result"
    }
   ],
   "source": [
    "x.str.replace('[a-z]','')"
   ]
  },
  {
   "cell_type": "code",
   "execution_count": 83,
   "metadata": {},
   "outputs": [
    {
     "data": {
      "text/plain": [
       "0             123\n",
       "1           $#@!@\n",
       "2                \n",
       "dtype: object"
      ]
     },
     "execution_count": 83,
     "metadata": {},
     "output_type": "execute_result"
    }
   ],
   "source": [
    "x.str.replace('[a-zA-Z]','')"
   ]
  },
  {
   "cell_type": "code",
   "execution_count": 84,
   "metadata": {},
   "outputs": [
    {
     "data": {
      "text/plain": [
       "0                \n",
       "1           $#@!@\n",
       "2                \n",
       "dtype: object"
      ]
     },
     "execution_count": 84,
     "metadata": {},
     "output_type": "execute_result"
    }
   ],
   "source": [
    "x.str.replace('[a-zA-Z0-9]','')"
   ]
  },
  {
   "cell_type": "code",
   "execution_count": 91,
   "metadata": {},
   "outputs": [
    {
     "data": {
      "text/plain": [
       "0               this is a sentence with numbers \n",
       "1    this is a sentence with sepcial characters \n",
       "2                          is a sentence   cases\n",
       "dtype: object"
      ]
     },
     "execution_count": 91,
     "metadata": {},
     "output_type": "execute_result"
    }
   ],
   "source": [
    "x.str.replace('[^a-z\\s]','') #we have to retain spaces as well\n",
    "#or\n",
    "#x.str.replace('[^a-z ]','')"
   ]
  },
  {
   "cell_type": "code",
   "execution_count": 92,
   "metadata": {},
   "outputs": [
    {
     "data": {
      "text/plain": [
       "0                  this is a sentence with numbers \n",
       "1    this is a sentence with sepcial characters #@@\n",
       "2                             is a sentence   cases\n",
       "dtype: object"
      ]
     },
     "execution_count": 92,
     "metadata": {},
     "output_type": "execute_result"
    }
   ],
   "source": [
    "x.str.replace('[^a-z #@]','')"
   ]
  },
  {
   "cell_type": "code",
   "execution_count": 93,
   "metadata": {},
   "outputs": [],
   "source": [
    "############################################"
   ]
  },
  {
   "cell_type": "code",
   "execution_count": 98,
   "metadata": {},
   "outputs": [
    {
     "data": {
      "text/plain": [
       "0    the presidents address wonderfully encapsulate...\n",
       "1    rashtrapati jis address to both houses of parl...\n",
       "Name: text, dtype: object"
      ]
     },
     "execution_count": 98,
     "metadata": {},
     "output_type": "execute_result"
    }
   ],
   "source": [
    "docs_clean=docs.str.replace('[^a-z #@]','')\n",
    "docs_clean.head(2)"
   ]
  },
  {
   "cell_type": "code",
   "execution_count": 104,
   "metadata": {},
   "outputs": [],
   "source": [
    "###session 2"
   ]
  },
  {
   "cell_type": "code",
   "execution_count": 100,
   "metadata": {},
   "outputs": [
    {
     "data": {
      "text/plain": [
       "0    the presidents address wonderfully encapsulate...\n",
       "1    rashtrapati jis address to both houses of parl...\n",
       "2    rt @pmoindia empowering the marginalised https...\n",
       "3    rt @pmoindia commitment to welfare of farmers ...\n",
       "4    rt @pmoindia improving the quality of life for...\n",
       "Name: text, dtype: object"
      ]
     },
     "execution_count": 100,
     "metadata": {},
     "output_type": "execute_result"
    }
   ],
   "source": [
    "docs_clean.head() # go thru each sentences manually and remove those stop words"
   ]
  },
  {
   "cell_type": "code",
   "execution_count": 103,
   "metadata": {},
   "outputs": [],
   "source": [
    "stopwords=nltk.corpus.stopwords.words('english')\n",
    "stopwords.extend(['https','rt','cp','amp'])\n",
    "#setmming---go to each sentence and clena it one by one"
   ]
  },
  {
   "cell_type": "markdown",
   "metadata": {},
   "source": [
    "stemming"
   ]
  },
  {
   "cell_type": "code",
   "execution_count": 105,
   "metadata": {},
   "outputs": [
    {
     "data": {
      "text/plain": [
       "'play'"
      ]
     },
     "execution_count": 105,
     "metadata": {},
     "output_type": "execute_result"
    }
   ],
   "source": [
    "stemmer=nltk.stem.PorterStemmer()  #ends with s removes s, ing---removes ing\n",
    "stemmer.stem('playing')"
   ]
  },
  {
   "cell_type": "code",
   "execution_count": 106,
   "metadata": {},
   "outputs": [
    {
     "data": {
      "text/plain": [
       "'play'"
      ]
     },
     "execution_count": 106,
     "metadata": {},
     "output_type": "execute_result"
    }
   ],
   "source": [
    "stemmer.stem('played')"
   ]
  },
  {
   "cell_type": "code",
   "execution_count": 141,
   "metadata": {},
   "outputs": [
    {
     "data": {
      "text/plain": [
       "['play', 'play', 'play', 'play']"
      ]
     },
     "execution_count": 141,
     "metadata": {},
     "output_type": "execute_result"
    }
   ],
   "source": [
    "x=['play','playing','played','plays']\n",
    "y=['quality','qualities','qualitative']\n",
    "[stemmer.stem(word) for word in x]  #using list comprehension to loop thru each sentences"
   ]
  },
  {
   "cell_type": "code",
   "execution_count": 142,
   "metadata": {},
   "outputs": [
    {
     "data": {
      "text/plain": [
       "['qualiti', 'qualiti', 'qualit']"
      ]
     },
     "execution_count": 142,
     "metadata": {},
     "output_type": "execute_result"
    }
   ],
   "source": [
    "[stemmer.stem(word) for word in y]"
   ]
  },
  {
   "cell_type": "code",
   "execution_count": 112,
   "metadata": {},
   "outputs": [
    {
     "data": {
      "text/plain": [
       "0    the presidents address wonderfully encapsulate...\n",
       "1    rashtrapati jis address to both houses of parl...\n",
       "Name: text, dtype: object"
      ]
     },
     "execution_count": 112,
     "metadata": {},
     "output_type": "execute_result"
    }
   ],
   "source": [
    "#will try for first 2 sentences\n",
    "sample = docs_clean.head(2) \n",
    "sample\n"
   ]
  },
  {
   "cell_type": "code",
   "execution_count": 118,
   "metadata": {},
   "outputs": [
    {
     "name": "stdout",
     "output_type": "stream",
     "text": [
      "the presidents address wonderfully encapsulated indias strengths aspirations potential amp the efforts towards #transformingindia\n",
      "['the', 'presidents', 'address', 'wonderfully', 'encapsulated', 'indias', 'strengths', 'aspirations', 'potential', 'amp', 'the', 'efforts', 'towards', '#transformingindia']\n",
      "-------\n",
      "rashtrapati jis address to both houses of parliament was indepth amp extensive do hear httpstcordkqtjgnnx @rashtrapatibhvn\n",
      "['rashtrapati', 'jis', 'address', 'to', 'both', 'houses', 'of', 'parliament', 'was', 'indepth', 'amp', 'extensive', 'do', 'hear', 'httpstcordkqtjgnnx', '@rashtrapatibhvn']\n",
      "-------\n"
     ]
    }
   ],
   "source": [
    "for tweet in sample:\n",
    "    print(tweet)\n",
    "    words=tweet.split(' ') #spliiting it by space , so that we get every word in a list\n",
    "    print(words)\n",
    "    print('-------')"
   ]
  },
  {
   "cell_type": "code",
   "execution_count": 122,
   "metadata": {},
   "outputs": [
    {
     "name": "stdout",
     "output_type": "stream",
     "text": [
      "the presidents address wonderfully encapsulated indias strengths aspirations potential amp the efforts towards #transformingindia\n",
      "['the', 'presidents', 'address', 'wonderfully', 'encapsulated', 'indias', 'strengths', 'aspirations', 'potential', 'amp', 'the', 'efforts', 'towards', '#transformingindia']\n",
      "['presidents', 'address', 'wonderfully', 'encapsulated', 'indias', 'strengths', 'aspirations', 'potential', 'efforts', 'towards', '#transformingindia']\n",
      "-------\n",
      "rashtrapati jis address to both houses of parliament was indepth amp extensive do hear httpstcordkqtjgnnx @rashtrapatibhvn\n",
      "['rashtrapati', 'jis', 'address', 'to', 'both', 'houses', 'of', 'parliament', 'was', 'indepth', 'amp', 'extensive', 'do', 'hear', 'httpstcordkqtjgnnx', '@rashtrapatibhvn']\n",
      "['rashtrapati', 'jis', 'address', 'houses', 'parliament', 'indepth', 'extensive', 'hear', 'httpstcordkqtjgnnx', '@rashtrapatibhvn']\n",
      "-------\n"
     ]
    }
   ],
   "source": [
    "#using list comprehension\n",
    "for tweet in sample:\n",
    "    print(tweet)\n",
    "    words=tweet.split(' ') #spliiting it by space , so that we get every word in a list\n",
    "    print(words)\n",
    "    word_clean=[word for word in words if word not in stopwords]\n",
    "    print(word_clean)\n",
    "    print('-------')"
   ]
  },
  {
   "cell_type": "code",
   "execution_count": 123,
   "metadata": {},
   "outputs": [],
   "source": [
    "#now the stopwords are removed"
   ]
  },
  {
   "cell_type": "markdown",
   "metadata": {},
   "source": [
    "for stemming and removing stopwords"
   ]
  },
  {
   "cell_type": "code",
   "execution_count": 125,
   "metadata": {},
   "outputs": [
    {
     "name": "stdout",
     "output_type": "stream",
     "text": [
      "the presidents address wonderfully encapsulated indias strengths aspirations potential amp the efforts towards #transformingindia\n",
      "['the', 'presidents', 'address', 'wonderfully', 'encapsulated', 'indias', 'strengths', 'aspirations', 'potential', 'amp', 'the', 'efforts', 'towards', '#transformingindia']\n",
      "['presid', 'address', 'wonder', 'encapsul', 'india', 'strength', 'aspir', 'potenti', 'effort', 'toward', '#transformingindia']\n",
      "-------\n",
      "rashtrapati jis address to both houses of parliament was indepth amp extensive do hear httpstcordkqtjgnnx @rashtrapatibhvn\n",
      "['rashtrapati', 'jis', 'address', 'to', 'both', 'houses', 'of', 'parliament', 'was', 'indepth', 'amp', 'extensive', 'do', 'hear', 'httpstcordkqtjgnnx', '@rashtrapatibhvn']\n",
      "['rashtrapati', 'ji', 'address', 'hous', 'parliament', 'indepth', 'extens', 'hear', 'httpstcordkqtjgnnx', '@rashtrapatibhvn']\n",
      "-------\n"
     ]
    }
   ],
   "source": [
    "#stemming is also done wlong with stopwords removing\n",
    "for tweet in sample:\n",
    "    print(tweet)\n",
    "    words=tweet.split(' ')\n",
    "    print(words)\n",
    "    word_clean=[stemmer.stem(word)for word in words if word not in stopwords]\n",
    "    print(word_clean)\n",
    "    print('-------')"
   ]
  },
  {
   "cell_type": "code",
   "execution_count": 134,
   "metadata": {},
   "outputs": [
    {
     "name": "stdout",
     "output_type": "stream",
     "text": [
      "presid address wonder encapsul india strength aspir potenti effort toward #transformingindia\n",
      "-------\n",
      "rashtrapati ji address hous parliament indepth extens hear httpstcordkqtjgnnx @rashtrapatibhvn\n",
      "-------\n"
     ]
    }
   ],
   "source": [
    "#joining back the sentences  after stemming and removing stopwords\n",
    "\n",
    "for tweet in sample:\n",
    "    #print(tweet)\n",
    "    words=tweet.split(' ')\n",
    "    #print(words)\n",
    "    word_clean=[stemmer.stem(word)for word in words if word not in stopwords]\n",
    "    text_clean=' '.join(word_clean)\n",
    "    #print(word_clean)\n",
    "    print(text_clean)\n",
    "    print('-------')"
   ]
  },
  {
   "cell_type": "markdown",
   "metadata": {},
   "source": [
    "Applying stemming and stopwords for the data"
   ]
  },
  {
   "cell_type": "code",
   "execution_count": 135,
   "metadata": {},
   "outputs": [
    {
     "data": {
      "text/plain": [
       "0    presid address wonder encapsul india strength ...\n",
       "1    rashtrapati ji address hous parliament indepth...\n",
       "2          @pmoindia empow marginalis httpstcowwsqgwdk\n",
       "3     @pmoindia commit welfar farmer httpstcopaafrfmrc\n",
       "4    @pmoindia improv qualiti life poor httpstcougmvkz\n",
       "Name: text, dtype: object"
      ]
     },
     "execution_count": 135,
     "metadata": {},
     "output_type": "execute_result"
    }
   ],
   "source": [
    "def clean_sentence(doc):\n",
    "    words=doc.split(' ')\n",
    "    words_clean=[stemmer.stem(word) for word in words if word not in stopwords]\n",
    "    doc_clean=' '.join(words_clean)\n",
    "    return doc_clean\n",
    "docs_clean=docs_clean.apply(clean_sentence)\n",
    "docs_clean.head()\n",
    "    "
   ]
  },
  {
   "cell_type": "markdown",
   "metadata": {},
   "source": [
    "# Summary till now # flow for classification problem"
   ]
  },
  {
   "cell_type": "code",
   "execution_count": 137,
   "metadata": {},
   "outputs": [
    {
     "data": {
      "text/plain": [
       "0    presid address wonder encapsul india strength ...\n",
       "1    rashtrapati ji address hous parliament indepth...\n",
       "2          @pmoindia empow marginalis httpstcowwsqgwdk\n",
       "3     @pmoindia commit welfar farmer httpstcopaafrfmrc\n",
       "4    @pmoindia improv qualiti life poor httpstcougmvkz\n",
       "Name: text, dtype: object"
      ]
     },
     "execution_count": 137,
     "metadata": {},
     "output_type": "execute_result"
    }
   ],
   "source": [
    "#converting to lower case\n",
    "#removing unwanted characters\n",
    "#removing stopwords\n",
    "#stemming\n",
    "docs_clean=modi['text'].str.lower().str.replace('[^a-z #@]','')\n",
    "stopwords=nltk.corpus.stopwords.words('english')\n",
    "stopwords.extend(['https','rt','cp','amp'])\n",
    "\n",
    "def clean_sentence(doc):\n",
    "    words=doc.split(' ')\n",
    "    words_clean=[stemmer.stem(word) for word in words if word not in stopwords]\n",
    "    doc_clean=' '.join(words_clean)\n",
    "    return doc_clean\n",
    "docs_clean=docs_clean.apply(clean_sentence)\n",
    "docs_clean.head()"
   ]
  },
  {
   "cell_type": "markdown",
   "metadata": {},
   "source": [
    "#  End"
   ]
  },
  {
   "cell_type": "code",
   "execution_count": 139,
   "metadata": {},
   "outputs": [],
   "source": [
    "#here meaning of the word is not needed, we are concerned about the presence of the word for classification problem\n",
    "#example improv, qualiti etc"
   ]
  },
  {
   "cell_type": "markdown",
   "metadata": {},
   "source": [
    "# Document term matrix"
   ]
  },
  {
   "cell_type": "code",
   "execution_count": 144,
   "metadata": {},
   "outputs": [],
   "source": [
    "from sklearn.feature_extraction.text import CountVectorizer\n",
    "vectorizer=CountVectorizer() #vectorizes the document#text into numbers"
   ]
  },
  {
   "cell_type": "code",
   "execution_count": 149,
   "metadata": {},
   "outputs": [],
   "source": [
    "#takes collection os strings as input\n",
    "#first it will geive matrix in compressed format matrix, from wch we can extrat the actual matrix also\n",
    "#get the compressed, many ML algos can take this as input"
   ]
  },
  {
   "cell_type": "code",
   "execution_count": 151,
   "metadata": {},
   "outputs": [
    {
     "data": {
      "text/plain": [
       "CountVectorizer(analyzer='word', binary=False, decode_error='strict',\n",
       "        dtype=<class 'numpy.int64'>, encoding='utf-8', input='content',\n",
       "        lowercase=True, max_df=1.0, max_features=None, min_df=1,\n",
       "        ngram_range=(1, 1), preprocessor=None, stop_words=None,\n",
       "        strip_accents=None, token_pattern='(?u)\\\\b\\\\w\\\\w+\\\\b',\n",
       "        tokenizer=None, vocabulary=None)"
      ]
     },
     "execution_count": 151,
     "metadata": {},
     "output_type": "execute_result"
    }
   ],
   "source": [
    "vectorizer.fit(docs_clean) #ngram_range===uni/bi\n",
    "#token_pattern=regex patterns\n",
    "#max df===how many times a term should be appeared\n",
    "#stop_words==can be english"
   ]
  },
  {
   "cell_type": "code",
   "execution_count": 159,
   "metadata": {},
   "outputs": [
    {
     "data": {
      "text/plain": [
       "['aabhar',\n",
       " 'aadhaar',\n",
       " 'aadhar',\n",
       " 'aajtak',\n",
       " 'aamirkhan',\n",
       " 'aanandmayi',\n",
       " 'aap',\n",
       " 'aawa',\n",
       " 'aazadisa',\n",
       " 'abdel',\n",
       " 'abduct',\n",
       " 'abdul',\n",
       " 'abdulaziz',\n",
       " 'abdulla',\n",
       " 'abdullah',\n",
       " 'abe',\n",
       " 'abeshinzo',\n",
       " 'abeshinzow',\n",
       " 'abhidecentguy',\n",
       " 'abhikr',\n",
       " 'abhinavbindra',\n",
       " 'abhiyaan',\n",
       " 'abhiyan',\n",
       " 'abil',\n",
       " 'abl',\n",
       " 'abpnewstv',\n",
       " 'abroad',\n",
       " 'absolut',\n",
       " 'abt',\n",
       " 'abu',\n",
       " 'abul',\n",
       " 'abumathen',\n",
       " 'abund',\n",
       " 'academ',\n",
       " 'academician',\n",
       " 'acceler',\n",
       " 'accept',\n",
       " 'access',\n",
       " 'accid',\n",
       " 'accident',\n",
       " 'accommod',\n",
       " 'accompani',\n",
       " 'accomplish',\n",
       " 'accord',\n",
       " 'account',\n",
       " 'ace',\n",
       " 'aceh',\n",
       " 'acharya',\n",
       " 'achiev',\n",
       " 'achuthanandan',\n",
       " 'across',\n",
       " 'act',\n",
       " 'action',\n",
       " 'activ',\n",
       " 'ad',\n",
       " 'ada',\n",
       " 'adajansurat',\n",
       " 'adama',\n",
       " 'add',\n",
       " 'addit',\n",
       " 'addl',\n",
       " 'address',\n",
       " 'addwhi',\n",
       " 'adelaljubeir',\n",
       " 'adequ',\n",
       " 'adgpi',\n",
       " 'adhia',\n",
       " 'adithyan',\n",
       " 'adjoin',\n",
       " 'adjust',\n",
       " 'admin',\n",
       " 'administr',\n",
       " 'admir',\n",
       " 'adopt',\n",
       " 'adr',\n",
       " 'adult',\n",
       " 'adulyadej',\n",
       " 'advanc',\n",
       " 'advancingasiaconfer',\n",
       " 'advani',\n",
       " 'advantag',\n",
       " 'advent',\n",
       " 'adventur',\n",
       " 'advers',\n",
       " 'affair',\n",
       " 'affect',\n",
       " 'affirm',\n",
       " 'afford',\n",
       " 'afforest',\n",
       " 'afg',\n",
       " 'afghan',\n",
       " 'afghanindia',\n",
       " 'afghanistan',\n",
       " 'afghanistanindia',\n",
       " 'africa',\n",
       " 'africahow',\n",
       " 'african',\n",
       " 'afternoon',\n",
       " 'agarw',\n",
       " 'age',\n",
       " 'agenda',\n",
       " 'agent',\n",
       " 'aggress',\n",
       " 'agni',\n",
       " 'ago',\n",
       " 'agra',\n",
       " 'agrasen',\n",
       " 'agre',\n",
       " 'agreement',\n",
       " 'agricultur',\n",
       " 'agro',\n",
       " 'agrobiodiveristi',\n",
       " 'agrobiodivers',\n",
       " 'ahead',\n",
       " 'ahirhansraj',\n",
       " 'ahm',\n",
       " 'ahmedabad',\n",
       " 'ai',\n",
       " 'aiadmkoffici',\n",
       " 'aiim',\n",
       " 'ailment',\n",
       " 'aim',\n",
       " 'aintprateek',\n",
       " 'air',\n",
       " 'airavat',\n",
       " 'aircraft',\n",
       " 'airindia',\n",
       " 'airindiain',\n",
       " 'airport',\n",
       " 'aitc',\n",
       " 'ajaydevgn',\n",
       " 'ajinkyarahan',\n",
       " 'ajmer',\n",
       " 'ajoyib',\n",
       " 'akali',\n",
       " 'akalid',\n",
       " 'akashvaniair',\n",
       " 'akashvanimaitre',\n",
       " 'akbaruddinindia',\n",
       " 'akhil',\n",
       " 'akihito',\n",
       " 'akola',\n",
       " 'akshaykumar',\n",
       " 'akshit',\n",
       " 'akshita',\n",
       " 'al',\n",
       " 'alexand',\n",
       " 'alfalih',\n",
       " 'algeria',\n",
       " 'ali',\n",
       " 'alipur',\n",
       " 'alish',\n",
       " 'aliv',\n",
       " 'alkaagarw',\n",
       " 'allahabad',\n",
       " 'allencompass',\n",
       " 'allevi',\n",
       " 'alli',\n",
       " 'allianc',\n",
       " 'allinclus',\n",
       " 'allparti',\n",
       " 'allround',\n",
       " 'almazbek',\n",
       " 'almighti',\n",
       " 'almost',\n",
       " 'alon',\n",
       " 'along',\n",
       " 'aloqalarini',\n",
       " 'aloqalarni',\n",
       " 'alreadi',\n",
       " 'also',\n",
       " 'alter',\n",
       " 'althani',\n",
       " 'alumni',\n",
       " 'alway',\n",
       " 'amanullah',\n",
       " 'amar',\n",
       " 'amaz',\n",
       " 'amb',\n",
       " 'ambalo',\n",
       " 'ambani',\n",
       " 'ambassador',\n",
       " 'ambedkar',\n",
       " 'ambit',\n",
       " 'ambiti',\n",
       " 'amcdrr',\n",
       " 'america',\n",
       " 'american',\n",
       " 'amir',\n",
       " 'amit',\n",
       " 'amiti',\n",
       " 'amitshah',\n",
       " 'ammunit',\n",
       " 'among',\n",
       " 'amongst',\n",
       " 'ampcitizens',\n",
       " 'ampl',\n",
       " 'ampmartyrsoff',\n",
       " 'ampneonat',\n",
       " 'ampyu',\n",
       " 'amr',\n",
       " 'amritanandamayi',\n",
       " 'amritsar',\n",
       " 'amroha',\n",
       " 'amrut',\n",
       " 'amulcoop',\n",
       " 'an',\n",
       " 'analyst',\n",
       " 'anandibenpatel',\n",
       " 'anandmahindra',\n",
       " 'anant',\n",
       " 'ananth',\n",
       " 'ananthkumarbjp',\n",
       " 'anantnag',\n",
       " 'anc',\n",
       " 'anchor',\n",
       " 'ancient',\n",
       " 'andhra',\n",
       " 'andrew',\n",
       " 'android',\n",
       " 'anecdot',\n",
       " 'anecdotesfortun',\n",
       " 'angkor',\n",
       " 'angkoraeri',\n",
       " 'anguish',\n",
       " 'anilshirolebjp',\n",
       " 'aninew',\n",
       " 'ankara',\n",
       " 'ankur',\n",
       " 'anniversari',\n",
       " 'announc',\n",
       " 'annual',\n",
       " 'anonym',\n",
       " 'anoop',\n",
       " 'anoth',\n",
       " 'ansari',\n",
       " 'anshika',\n",
       " 'answer',\n",
       " 'anthem',\n",
       " 'antibiot',\n",
       " 'anticorrupt',\n",
       " 'antin',\n",
       " 'antireligi',\n",
       " 'antoniocostapm',\n",
       " 'antyodaya',\n",
       " 'anupampkh',\n",
       " 'anuppawar',\n",
       " 'anuradha',\n",
       " 'anuragdubey',\n",
       " 'anyon',\n",
       " 'ap',\n",
       " 'apart',\n",
       " 'apartheid',\n",
       " 'apj',\n",
       " 'apn',\n",
       " 'app',\n",
       " 'appal',\n",
       " 'apparatu',\n",
       " 'apparel',\n",
       " 'appeal',\n",
       " 'appear',\n",
       " 'appl',\n",
       " 'applaud',\n",
       " 'appreci',\n",
       " 'appris',\n",
       " 'approach',\n",
       " 'appropri',\n",
       " 'approv',\n",
       " 'appurg',\n",
       " 'april',\n",
       " 'apt',\n",
       " 'apurvichandela',\n",
       " 'arabia',\n",
       " 'arbitr',\n",
       " 'archaic',\n",
       " 'archer',\n",
       " 'archeri',\n",
       " 'architect',\n",
       " 'architectur',\n",
       " 'archiv',\n",
       " 'ardha',\n",
       " 'area',\n",
       " 'argafg',\n",
       " 'argentina',\n",
       " 'argument',\n",
       " 'aris',\n",
       " 'arjuna',\n",
       " 'arlingtonnatl',\n",
       " 'arm',\n",
       " 'armedforcesflagday',\n",
       " 'armi',\n",
       " 'armyairforcenavi',\n",
       " 'arnab',\n",
       " 'around',\n",
       " 'arrang',\n",
       " 'arriv',\n",
       " 'art',\n",
       " 'artefact',\n",
       " 'artha',\n",
       " 'articl',\n",
       " 'articul',\n",
       " 'artist',\n",
       " 'artofliv',\n",
       " 'artoflivinghttpstcokkfyjvug',\n",
       " 'arunach',\n",
       " 'arunjaitley',\n",
       " 'arvindkejriw',\n",
       " 'asana',\n",
       " 'asansol',\n",
       " 'asean',\n",
       " 'aseana',\n",
       " 'aseanindia',\n",
       " 'ashadhi',\n",
       " 'ashishbhamar',\n",
       " 'ashrafghani',\n",
       " 'ashrafghanigot',\n",
       " 'ashram',\n",
       " 'ashrdhanush',\n",
       " 'ashtami',\n",
       " 'ashton',\n",
       " 'ashwani',\n",
       " 'ashwini',\n",
       " 'ashwinravi',\n",
       " 'asia',\n",
       " 'asian',\n",
       " 'asiapacif',\n",
       " 'ask',\n",
       " 'aspect',\n",
       " 'aspir',\n",
       " 'assam',\n",
       " 'assembl',\n",
       " 'assi',\n",
       " 'assimil',\n",
       " 'assist',\n",
       " 'associ',\n",
       " 'assum',\n",
       " 'assur',\n",
       " 'at',\n",
       " 'atal',\n",
       " 'atambayev',\n",
       " 'atanu',\n",
       " 'athlet',\n",
       " 'atmasthananda',\n",
       " 'atmospher',\n",
       " 'atom',\n",
       " 'atslideshow',\n",
       " 'attach',\n",
       " 'attack',\n",
       " 'attain',\n",
       " 'attempt',\n",
       " 'attend',\n",
       " 'attent',\n",
       " 'attract',\n",
       " 'aug',\n",
       " 'augu',\n",
       " 'augur',\n",
       " 'august',\n",
       " 'aung',\n",
       " 'auspici',\n",
       " 'australian',\n",
       " 'author',\n",
       " 'auto',\n",
       " 'autograph',\n",
       " 'autom',\n",
       " 'autonomi',\n",
       " 'avail',\n",
       " 'avalanch',\n",
       " 'avenu',\n",
       " 'averag',\n",
       " 'aviat',\n",
       " 'awaa',\n",
       " 'await',\n",
       " 'awar',\n",
       " 'award',\n",
       " 'awarde',\n",
       " 'away',\n",
       " 'ayonikapaul',\n",
       " 'azad',\n",
       " 'azadikesa',\n",
       " 'azadisaal',\n",
       " 'baba',\n",
       " 'babar',\n",
       " 'babasaheb',\n",
       " 'babu',\n",
       " 'baccharaj',\n",
       " 'bachao',\n",
       " 'bachchan',\n",
       " 'bachha',\n",
       " 'back',\n",
       " 'backbon',\n",
       " 'badal',\n",
       " 'badarunnisa',\n",
       " 'badminton',\n",
       " 'bagh',\n",
       " 'bahadur',\n",
       " 'bahadurji',\n",
       " 'bahraich',\n",
       " 'baina',\n",
       " 'bainimarama',\n",
       " 'baisakhi',\n",
       " 'bal',\n",
       " 'balanc',\n",
       " 'balasaheb',\n",
       " 'balasor',\n",
       " 'baljind',\n",
       " 'ballia',\n",
       " 'balraj',\n",
       " 'bamboo',\n",
       " 'ban',\n",
       " 'bana',\n",
       " 'banaskantha',\n",
       " 'banda',\n",
       " 'bandaru',\n",
       " 'bandhan',\n",
       " 'bandhasana',\n",
       " 'bandra',\n",
       " 'bangabandhu',\n",
       " 'bangkok',\n",
       " 'bangladesh',\n",
       " 'bank',\n",
       " 'banker',\n",
       " 'banni',\n",
       " 'bap',\n",
       " 'bappa',\n",
       " 'bapu',\n",
       " 'bar',\n",
       " 'barackobama',\n",
       " 'barak',\n",
       " 'baran',\n",
       " 'barbar',\n",
       " 'barnala',\n",
       " 'barrier',\n",
       " 'barrow',\n",
       " 'base',\n",
       " 'basepm',\n",
       " 'basha',\n",
       " 'basic',\n",
       " 'basirhat',\n",
       " 'basket',\n",
       " 'bat',\n",
       " 'batch',\n",
       " 'bathinda',\n",
       " 'baton',\n",
       " 'batra',\n",
       " 'batsmen',\n",
       " 'battl',\n",
       " 'bavdi',\n",
       " 'bc',\n",
       " 'bcci',\n",
       " 'be',\n",
       " 'beach',\n",
       " 'beacon',\n",
       " 'bear',\n",
       " 'beat',\n",
       " 'beau',\n",
       " 'beauti',\n",
       " 'becam',\n",
       " 'becom',\n",
       " 'bedrock',\n",
       " 'beekeep',\n",
       " 'befit',\n",
       " 'before',\n",
       " 'began',\n",
       " 'begin',\n",
       " 'behind',\n",
       " 'beij',\n",
       " 'beingsalmankhan',\n",
       " 'belagavi',\n",
       " 'belgian',\n",
       " 'belgium',\n",
       " 'belief',\n",
       " 'believ',\n",
       " 'beliz',\n",
       " 'belong',\n",
       " 'belonia',\n",
       " 'belov',\n",
       " 'bemvindo',\n",
       " 'benefici',\n",
       " 'beneficialhttpstcotxikveri',\n",
       " 'beneficiar',\n",
       " 'beneficiari',\n",
       " 'beneficiarieshttpstcomjssgghbch',\n",
       " 'benefit',\n",
       " 'benefitshttpstcomeabib',\n",
       " 'bengal',\n",
       " 'bengali',\n",
       " 'bengaluru',\n",
       " 'bereav',\n",
       " 'beri',\n",
       " 'bern',\n",
       " 'berth',\n",
       " 'besid',\n",
       " 'best',\n",
       " 'beston',\n",
       " 'beti',\n",
       " 'betray',\n",
       " 'better',\n",
       " 'beyer',\n",
       " 'beyond',\n",
       " 'bhabhor',\n",
       " 'bhabra',\n",
       " 'bhadrasanahttpstcofvhdeblk',\n",
       " 'bhagalpur',\n",
       " 'bhagat',\n",
       " 'bhagidari',\n",
       " 'bhagiratha',\n",
       " 'bhagwan',\n",
       " 'bhagwat',\n",
       " 'bhai',\n",
       " 'bhaiyo',\n",
       " 'bhakti',\n",
       " 'bharat',\n",
       " 'bharatendrabjp',\n",
       " 'bharathttpstcoubdiwcmcf',\n",
       " 'bharati',\n",
       " 'bharatiben',\n",
       " 'bharatiya',\n",
       " 'bharatmata',\n",
       " 'bharatwallah',\n",
       " 'bhati',\n",
       " 'bhatt',\n",
       " 'bhav',\n",
       " 'bhavan',\n",
       " 'bhave',\n",
       " 'bhavinqa',\n",
       " 'bhavnagar',\n",
       " 'bhavybhardwaj',\n",
       " 'bhedi',\n",
       " 'bhejiy',\n",
       " 'bhi',\n",
       " 'bhil',\n",
       " 'bhilai',\n",
       " 'bhim',\n",
       " 'bhiwandi',\n",
       " 'bhoomi',\n",
       " 'bhoomipujan',\n",
       " 'bhopal',\n",
       " 'bhubaneswar',\n",
       " 'bhuj',\n",
       " 'bhujangasana',\n",
       " 'bhumibol',\n",
       " 'bhumihimach',\n",
       " 'bhumipujan',\n",
       " 'bhutan',\n",
       " 'bidyut',\n",
       " 'big',\n",
       " 'biggest',\n",
       " 'bihar',\n",
       " 'bihari',\n",
       " 'bihpuria',\n",
       " 'bihu',\n",
       " 'bij',\n",
       " 'bike',\n",
       " 'biker',\n",
       " 'bilan',\n",
       " 'bilater',\n",
       " 'bilateral',\n",
       " 'bill',\n",
       " 'billcassidi',\n",
       " 'billgat',\n",
       " 'billiard',\n",
       " 'billion',\n",
       " 'bima',\n",
       " 'bimalendra',\n",
       " 'bimstec',\n",
       " 'bin',\n",
       " 'bind',\n",
       " 'bindeshwar',\n",
       " 'binil',\n",
       " 'biodivers',\n",
       " 'bir',\n",
       " 'bird',\n",
       " 'birgunj',\n",
       " 'birmingham',\n",
       " 'birsa',\n",
       " 'birth',\n",
       " 'birthday',\n",
       " 'bishop',\n",
       " 'bishweshwar',\n",
       " 'biswa',\n",
       " 'bit',\n",
       " 'bizo',\n",
       " 'bjp',\n",
       " 'bjpassampradesh',\n",
       " 'bjpbengal',\n",
       " 'bjpchandigarh',\n",
       " 'bjpdelhi',\n",
       " 'bjpfoundationday',\n",
       " 'bjpgoa',\n",
       " 'bjpgujarat',\n",
       " 'bjpindia',\n",
       " 'bjpkarnataka',\n",
       " 'bjpkerala',\n",
       " 'bjpkeralam',\n",
       " 'bjplive',\n",
       " 'bjppunjab',\n",
       " 'bjprajasthan',\n",
       " 'bjpup',\n",
       " 'bjym',\n",
       " 'blac',\n",
       " 'black',\n",
       " 'blackmoney',\n",
       " 'blackmoneyhttpstcoyoozquju',\n",
       " 'blaze',\n",
       " 'blend',\n",
       " 'bless',\n",
       " 'block',\n",
       " 'blockbust',\n",
       " 'bloomberg',\n",
       " 'blue',\n",
       " 'bluehousekorea',\n",
       " 'blumenth',\n",
       " 'bn',\n",
       " 'board',\n",
       " 'boat',\n",
       " 'bodi',\n",
       " 'bodyhttpstcogisglmqzi',\n",
       " 'bodyhttpstcoihcyamxvc',\n",
       " 'bogu',\n",
       " 'bohag',\n",
       " 'bohra',\n",
       " 'boishakh',\n",
       " 'bojjagutta',\n",
       " 'bokakhat',\n",
       " 'bold',\n",
       " 'boldi',\n",
       " 'bombayla',\n",
       " 'bond',\n",
       " 'book',\n",
       " 'boon',\n",
       " 'boost',\n",
       " 'booth',\n",
       " 'bor',\n",
       " 'border',\n",
       " 'bordersbow',\n",
       " 'bordersecurityforc',\n",
       " 'born',\n",
       " 'borrow',\n",
       " 'bose',\n",
       " 'bottl',\n",
       " 'bottleneck',\n",
       " 'bottom',\n",
       " 'bow',\n",
       " 'bowl',\n",
       " 'box',\n",
       " 'boxer',\n",
       " 'boxermanojkr',\n",
       " 'boxervijend',\n",
       " 'boy',\n",
       " 'bpl',\n",
       " 'br',\n",
       " 'brake',\n",
       " 'brave',\n",
       " 'braveri',\n",
       " 'brazil',\n",
       " 'break',\n",
       " 'breakfast',\n",
       " 'breakthrough',\n",
       " 'breath',\n",
       " 'breathtak',\n",
       " 'breve',\n",
       " 'bric',\n",
       " 'brick',\n",
       " 'bricsbimstec',\n",
       " 'bridg',\n",
       " 'brief',\n",
       " 'bright',\n",
       " 'brightest',\n",
       " 'brillianc',\n",
       " 'brilliant',\n",
       " 'bring',\n",
       " 'bro',\n",
       " 'broaden',\n",
       " 'broke',\n",
       " 'bronz',\n",
       " 'brother',\n",
       " 'brotherhood',\n",
       " 'brought',\n",
       " 'brussel',\n",
       " 'bsf',\n",
       " 'bsfindia',\n",
       " 'bsybjp',\n",
       " 'bt',\n",
       " 'bu',\n",
       " 'bud',\n",
       " 'buddha',\n",
       " 'budget',\n",
       " 'buena',\n",
       " 'bueno',\n",
       " 'build',\n",
       " 'built',\n",
       " 'bulb',\n",
       " 'bullet',\n",
       " 'bulwark',\n",
       " 'burden',\n",
       " 'burgo',\n",
       " 'burn',\n",
       " 'busi',\n",
       " 'businessperson',\n",
       " 'buy',\n",
       " 'buyer',\n",
       " 'buzz',\n",
       " 'byadavbjp',\n",
       " 'byelect',\n",
       " 'bygrand',\n",
       " 'bypass',\n",
       " 'bypol',\n",
       " 'ca',\n",
       " 'cab',\n",
       " 'cabinet',\n",
       " 'cadet',\n",
       " 'calam',\n",
       " 'call',\n",
       " 'caller',\n",
       " 'camaraderi',\n",
       " 'cambodia',\n",
       " 'cambridg',\n",
       " 'came',\n",
       " 'camera',\n",
       " 'cameraat',\n",
       " 'camp',\n",
       " 'campaign',\n",
       " 'campu',\n",
       " 'canada',\n",
       " 'canadainindia',\n",
       " 'cancer',\n",
       " 'candid',\n",
       " 'cant',\n",
       " 'capabl',\n",
       " 'capac',\n",
       " 'capit',\n",
       " 'capitol',\n",
       " 'captur',\n",
       " 'caraca',\n",
       " 'carbon',\n",
       " 'card',\n",
       " 'care',\n",
       " 'cargo',\n",
       " 'carniv',\n",
       " 'carri',\n",
       " 'carter',\n",
       " 'case',\n",
       " 'caseload',\n",
       " 'cash',\n",
       " 'cashless',\n",
       " 'cast',\n",
       " 'castro',\n",
       " 'catalyst',\n",
       " 'catch',\n",
       " 'catchi',\n",
       " 'cater',\n",
       " 'caucu',\n",
       " 'caught',\n",
       " 'caus',\n",
       " 'cbdt',\n",
       " 'cbec',\n",
       " 'cbse',\n",
       " 'ccea',\n",
       " 'cdmx',\n",
       " 'ceas',\n",
       " 'celebr',\n",
       " 'cement',\n",
       " 'centenari',\n",
       " 'center',\n",
       " 'centr',\n",
       " 'central',\n",
       " 'centrest',\n",
       " 'centric',\n",
       " 'centuri',\n",
       " 'centuryth',\n",
       " 'ceo',\n",
       " 'ceremoni',\n",
       " 'cern',\n",
       " 'certain',\n",
       " 'certainli',\n",
       " 'certif',\n",
       " 'cgabhisheksingh',\n",
       " 'cgiperth',\n",
       " 'ch',\n",
       " 'chahar',\n",
       " 'chahbahar',\n",
       " 'chai',\n",
       " 'chain',\n",
       " 'chair',\n",
       " 'chairman',\n",
       " 'chairperson',\n",
       " 'chakra',\n",
       " 'chalk',\n",
       " 'challeng',\n",
       " 'chamber',\n",
       " 'chaml',\n",
       " 'champaran',\n",
       " 'champion',\n",
       " 'championship',\n",
       " 'chanc',\n",
       " 'chand',\n",
       " 'chandan',\n",
       " 'chandi',\n",
       " 'chandigarh',\n",
       " 'chandra',\n",
       " 'chandrak',\n",
       " 'chang',\n",
       " 'changer',\n",
       " 'changese',\n",
       " 'chango',\n",
       " 'channel',\n",
       " 'chanocha',\n",
       " 'chanu',\n",
       " 'chao',\n",
       " 'chapter',\n",
       " 'char',\n",
       " 'characteris',\n",
       " 'charcha',\n",
       " 'charkha',\n",
       " 'charlesmichel',\n",
       " 'charti',\n",
       " 'chat',\n",
       " 'chaubey',\n",
       " 'chaudhari',\n",
       " 'chauhan',\n",
       " 'chaurasia',\n",
       " 'chavda',\n",
       " 'chbirendersingh',\n",
       " 'cheat',\n",
       " 'check',\n",
       " 'cheer',\n",
       " 'chees',\n",
       " 'chef',\n",
       " 'cheiraoba',\n",
       " 'chennai',\n",
       " 'chequ',\n",
       " 'chera',\n",
       " 'cherish',\n",
       " 'cheti',\n",
       " 'chhatrapati',\n",
       " 'chhattisgarh',\n",
       " 'chhindwara',\n",
       " 'chi',\n",
       " 'chiba',\n",
       " 'chicago',\n",
       " 'chief',\n",
       " 'child',\n",
       " 'children',\n",
       " 'china',\n",
       " 'chinaopen',\n",
       " 'chines',\n",
       " 'chingam',\n",
       " 'chinmaiswami',\n",
       " 'chintala',\n",
       " 'chistesharif',\n",
       " 'chisti',\n",
       " 'chit',\n",
       " 'chitrodahiren',\n",
       " 'chittchat',\n",
       " 'chittorgarh',\n",
       " 'chnh',\n",
       " 'cho',\n",
       " 'choic',\n",
       " 'choir',\n",
       " 'chopra',\n",
       " 'chopratejind',\n",
       " 'chose',\n",
       " 'chouhanshivraj',\n",
       " 'chq',\n",
       " 'christ',\n",
       " 'christma',\n",
       " 'chrysostom',\n",
       " 'chu',\n",
       " 'church',\n",
       " 'chuyn',\n",
       " 'ciao',\n",
       " 'circumst',\n",
       " 'cisco',\n",
       " 'cisf',\n",
       " 'citd',\n",
       " 'citi',\n",
       " 'citizen',\n",
       " 'citizenssnippet',\n",
       " 'cityballia',\n",
       " 'civic',\n",
       " 'civil',\n",
       " 'civilaviationpolici',\n",
       " 'civilian',\n",
       " 'civilis',\n",
       " 'civiliz',\n",
       " 'cji',\n",
       " 'ckforcleanindia',\n",
       " 'cl',\n",
       " 'clarion',\n",
       " 'clariti',\n",
       " 'class',\n",
       " 'classic',\n",
       " 'clean',\n",
       " 'cleaner',\n",
       " 'cleanli',\n",
       " 'cleanlinesspay',\n",
       " 'clear',\n",
       " 'climat',\n",
       " 'clock',\n",
       " 'close',\n",
       " 'closer',\n",
       " 'closingceremoni',\n",
       " 'club',\n",
       " 'clutch',\n",
       " 'cm',\n",
       " 'cmap',\n",
       " 'cmofficeup',\n",
       " 'cmofkarnataka',\n",
       " 'cmoodisha',\n",
       " 'cn',\n",
       " 'cng',\n",
       " 'cnv',\n",
       " 'co',\n",
       " 'coach',\n",
       " 'coacheswith',\n",
       " 'coal',\n",
       " 'coast',\n",
       " 'coastal',\n",
       " 'coberto',\n",
       " 'cobra',\n",
       " 'coexist',\n",
       " 'coimbator',\n",
       " 'coin',\n",
       " 'collabor',\n",
       " 'collaps',\n",
       " 'colleagu',\n",
       " 'collect',\n",
       " 'collector',\n",
       " 'colleg',\n",
       " 'colombo',\n",
       " 'coloni',\n",
       " 'colonialismnow',\n",
       " 'colorstv',\n",
       " 'colour',\n",
       " 'columbia',\n",
       " 'com',\n",
       " 'combat',\n",
       " 'combin',\n",
       " 'come',\n",
       " 'comfort',\n",
       " 'comingsoon',\n",
       " 'command',\n",
       " 'commandeur',\n",
       " 'commemor',\n",
       " 'commenc',\n",
       " 'commend',\n",
       " 'comment',\n",
       " 'commerc',\n",
       " 'commerci',\n",
       " 'commiss',\n",
       " 'commission',\n",
       " 'commit',\n",
       " 'committe',\n",
       " 'commod',\n",
       " 'common',\n",
       " 'commun',\n",
       " 'communist',\n",
       " 'compani',\n",
       " 'compass',\n",
       " 'compassion',\n",
       " 'compensatori',\n",
       " 'compet',\n",
       " 'competit',\n",
       " 'compil',\n",
       " 'complet',\n",
       " 'complex',\n",
       " 'complianc',\n",
       " 'compliant',\n",
       " 'compliment',\n",
       " 'complimentari',\n",
       " 'compon',\n",
       " 'composit',\n",
       " 'comprehens',\n",
       " 'compromis',\n",
       " 'con',\n",
       " 'conceiv',\n",
       " 'concern',\n",
       " 'conclud',\n",
       " 'conclus',\n",
       " 'condemn',\n",
       " 'condit',\n",
       " 'condol',\n",
       " 'conduc',\n",
       " 'confer',\n",
       " 'conferenc',\n",
       " 'confid',\n",
       " 'confluenc',\n",
       " 'confront',\n",
       " 'congrat',\n",
       " 'congratul',\n",
       " 'congratulatori',\n",
       " 'congress',\n",
       " 'congressmen',\n",
       " 'congresswomen',\n",
       " 'coni',\n",
       " 'connect',\n",
       " 'conrad',\n",
       " 'consensu',\n",
       " 'conserv',\n",
       " 'consid',\n",
       " ...]"
      ]
     },
     "execution_count": 159,
     "metadata": {},
     "output_type": "execute_result"
    }
   ],
   "source": [
    "vectorizer.get_feature_names()"
   ]
  },
  {
   "cell_type": "code",
   "execution_count": 160,
   "metadata": {},
   "outputs": [
    {
     "data": {
      "text/plain": [
       "7339"
      ]
     },
     "execution_count": 160,
     "metadata": {},
     "output_type": "execute_result"
    }
   ],
   "source": [
    "len(vectorizer.get_feature_names())"
   ]
  },
  {
   "cell_type": "code",
   "execution_count": 170,
   "metadata": {},
   "outputs": [
    {
     "data": {
      "text/plain": [
       "<3220x7339 sparse matrix of type '<class 'numpy.int64'>'\n",
       "\twith 31587 stored elements in Compressed Sparse Row format>"
      ]
     },
     "execution_count": 170,
     "metadata": {},
     "output_type": "execute_result"
    }
   ],
   "source": [
    "dtm=vectorizer.transform(docs_clean) #compressed output by default\n",
    "dtm"
   ]
  },
  {
   "cell_type": "code",
   "execution_count": 163,
   "metadata": {},
   "outputs": [],
   "source": [
    "#it just stores 31587 non zero values"
   ]
  },
  {
   "cell_type": "code",
   "execution_count": 168,
   "metadata": {},
   "outputs": [
    {
     "data": {
      "text/plain": [
       "0.1336643593022557"
      ]
     },
     "execution_count": 168,
     "metadata": {},
     "output_type": "execute_result"
    }
   ],
   "source": [
    "tot_values=3220*7339\n",
    "non_zero_values=31587\n",
    "(non_zero_values/tot_values )* 100"
   ]
  },
  {
   "cell_type": "code",
   "execution_count": 169,
   "metadata": {},
   "outputs": [
    {
     "data": {
      "text/plain": [
       "99.86633564069774"
      ]
     },
     "execution_count": 169,
     "metadata": {},
     "output_type": "execute_result"
    }
   ],
   "source": [
    "sparsity=(tot_values-non_zero_values )/tot_values* 100\n",
    "sparsity"
   ]
  },
  {
   "cell_type": "code",
   "execution_count": 175,
   "metadata": {},
   "outputs": [
    {
     "data": {
      "text/html": [
       "<div>\n",
       "<style scoped>\n",
       "    .dataframe tbody tr th:only-of-type {\n",
       "        vertical-align: middle;\n",
       "    }\n",
       "\n",
       "    .dataframe tbody tr th {\n",
       "        vertical-align: top;\n",
       "    }\n",
       "\n",
       "    .dataframe thead th {\n",
       "        text-align: right;\n",
       "    }\n",
       "</style>\n",
       "<table border=\"1\" class=\"dataframe\">\n",
       "  <thead>\n",
       "    <tr style=\"text-align: right;\">\n",
       "      <th></th>\n",
       "      <th>aabhar</th>\n",
       "      <th>aadhaar</th>\n",
       "      <th>aadhar</th>\n",
       "      <th>aajtak</th>\n",
       "      <th>aamirkhan</th>\n",
       "      <th>aanandmayi</th>\n",
       "      <th>aap</th>\n",
       "      <th>aawa</th>\n",
       "      <th>aazadisa</th>\n",
       "      <th>abdel</th>\n",
       "      <th>...</th>\n",
       "      <th>yuvstrong</th>\n",
       "      <th>zaidi</th>\n",
       "      <th>zay</th>\n",
       "      <th>zeal</th>\n",
       "      <th>zero</th>\n",
       "      <th>zhejiang</th>\n",
       "      <th>ziara</th>\n",
       "      <th>zimbabw</th>\n",
       "      <th>zone</th>\n",
       "      <th>zuma</th>\n",
       "    </tr>\n",
       "  </thead>\n",
       "  <tbody>\n",
       "    <tr>\n",
       "      <th>0</th>\n",
       "      <td>0</td>\n",
       "      <td>0</td>\n",
       "      <td>0</td>\n",
       "      <td>0</td>\n",
       "      <td>0</td>\n",
       "      <td>0</td>\n",
       "      <td>0</td>\n",
       "      <td>0</td>\n",
       "      <td>0</td>\n",
       "      <td>0</td>\n",
       "      <td>...</td>\n",
       "      <td>0</td>\n",
       "      <td>0</td>\n",
       "      <td>0</td>\n",
       "      <td>0</td>\n",
       "      <td>0</td>\n",
       "      <td>0</td>\n",
       "      <td>0</td>\n",
       "      <td>0</td>\n",
       "      <td>0</td>\n",
       "      <td>0</td>\n",
       "    </tr>\n",
       "    <tr>\n",
       "      <th>1</th>\n",
       "      <td>0</td>\n",
       "      <td>0</td>\n",
       "      <td>0</td>\n",
       "      <td>0</td>\n",
       "      <td>0</td>\n",
       "      <td>0</td>\n",
       "      <td>0</td>\n",
       "      <td>0</td>\n",
       "      <td>0</td>\n",
       "      <td>0</td>\n",
       "      <td>...</td>\n",
       "      <td>0</td>\n",
       "      <td>0</td>\n",
       "      <td>0</td>\n",
       "      <td>0</td>\n",
       "      <td>0</td>\n",
       "      <td>0</td>\n",
       "      <td>0</td>\n",
       "      <td>0</td>\n",
       "      <td>0</td>\n",
       "      <td>0</td>\n",
       "    </tr>\n",
       "    <tr>\n",
       "      <th>2</th>\n",
       "      <td>0</td>\n",
       "      <td>0</td>\n",
       "      <td>0</td>\n",
       "      <td>0</td>\n",
       "      <td>0</td>\n",
       "      <td>0</td>\n",
       "      <td>0</td>\n",
       "      <td>0</td>\n",
       "      <td>0</td>\n",
       "      <td>0</td>\n",
       "      <td>...</td>\n",
       "      <td>0</td>\n",
       "      <td>0</td>\n",
       "      <td>0</td>\n",
       "      <td>0</td>\n",
       "      <td>0</td>\n",
       "      <td>0</td>\n",
       "      <td>0</td>\n",
       "      <td>0</td>\n",
       "      <td>0</td>\n",
       "      <td>0</td>\n",
       "    </tr>\n",
       "    <tr>\n",
       "      <th>3</th>\n",
       "      <td>0</td>\n",
       "      <td>0</td>\n",
       "      <td>0</td>\n",
       "      <td>0</td>\n",
       "      <td>0</td>\n",
       "      <td>0</td>\n",
       "      <td>0</td>\n",
       "      <td>0</td>\n",
       "      <td>0</td>\n",
       "      <td>0</td>\n",
       "      <td>...</td>\n",
       "      <td>0</td>\n",
       "      <td>0</td>\n",
       "      <td>0</td>\n",
       "      <td>0</td>\n",
       "      <td>0</td>\n",
       "      <td>0</td>\n",
       "      <td>0</td>\n",
       "      <td>0</td>\n",
       "      <td>0</td>\n",
       "      <td>0</td>\n",
       "    </tr>\n",
       "    <tr>\n",
       "      <th>4</th>\n",
       "      <td>0</td>\n",
       "      <td>0</td>\n",
       "      <td>0</td>\n",
       "      <td>0</td>\n",
       "      <td>0</td>\n",
       "      <td>0</td>\n",
       "      <td>0</td>\n",
       "      <td>0</td>\n",
       "      <td>0</td>\n",
       "      <td>0</td>\n",
       "      <td>...</td>\n",
       "      <td>0</td>\n",
       "      <td>0</td>\n",
       "      <td>0</td>\n",
       "      <td>0</td>\n",
       "      <td>0</td>\n",
       "      <td>0</td>\n",
       "      <td>0</td>\n",
       "      <td>0</td>\n",
       "      <td>0</td>\n",
       "      <td>0</td>\n",
       "    </tr>\n",
       "  </tbody>\n",
       "</table>\n",
       "<p>5 rows × 7339 columns</p>\n",
       "</div>"
      ],
      "text/plain": [
       "   aabhar  aadhaar  aadhar  aajtak  aamirkhan  aanandmayi  aap  aawa  \\\n",
       "0       0        0       0       0          0           0    0     0   \n",
       "1       0        0       0       0          0           0    0     0   \n",
       "2       0        0       0       0          0           0    0     0   \n",
       "3       0        0       0       0          0           0    0     0   \n",
       "4       0        0       0       0          0           0    0     0   \n",
       "\n",
       "   aazadisa  abdel  ...   yuvstrong  zaidi  zay  zeal  zero  zhejiang  ziara  \\\n",
       "0         0      0  ...           0      0    0     0     0         0      0   \n",
       "1         0      0  ...           0      0    0     0     0         0      0   \n",
       "2         0      0  ...           0      0    0     0     0         0      0   \n",
       "3         0      0  ...           0      0    0     0     0         0      0   \n",
       "4         0      0  ...           0      0    0     0     0         0      0   \n",
       "\n",
       "   zimbabw  zone  zuma  \n",
       "0        0     0     0  \n",
       "1        0     0     0  \n",
       "2        0     0     0  \n",
       "3        0     0     0  \n",
       "4        0     0     0  \n",
       "\n",
       "[5 rows x 7339 columns]"
      ]
     },
     "execution_count": 175,
     "metadata": {},
     "output_type": "execute_result"
    }
   ],
   "source": [
    "#dtm.toarray()\n",
    "#which gives individual elements, and then convert to dataframe\n",
    "df_dtm=pd.DataFrame(dtm.toarray(),columns=vectorizer.get_feature_names())  #this is the uncomprssed format\n",
    "df_dtm.head()"
   ]
  },
  {
   "cell_type": "markdown",
   "metadata": {},
   "source": [
    "Session-3"
   ]
  },
  {
   "cell_type": "code",
   "execution_count": 183,
   "metadata": {},
   "outputs": [
    {
     "data": {
      "text/plain": [
       "<matplotlib.axes._subplots.AxesSubplot at 0x11d55a58>"
      ]
     },
     "execution_count": 183,
     "metadata": {},
     "output_type": "execute_result"
    },
    {
     "data": {
      "image/png": "[encoded data removed]",
      "text/plain": [
       "<Figure size 432x288 with 1 Axes>"
      ]
     },
     "metadata": {
      "needs_background": "light"
     },
     "output_type": "display_data"
    }
   ],
   "source": [
    "df_dtm.sum().sort_values(ascending=False).head(20)[::-1].plot.barh(color='steelblue')#freq of each column"
   ]
  },
  {
   "cell_type": "code",
   "execution_count": 182,
   "metadata": {},
   "outputs": [],
   "source": [
    "#gives top 20 column frequencies"
   ]
  },
  {
   "cell_type": "markdown",
   "metadata": {},
   "source": [
    "Top hashtags"
   ]
  },
  {
   "cell_type": "code",
   "execution_count": 224,
   "metadata": {},
   "outputs": [],
   "source": [
    "docs1_clean=modi['text'].str.lower().str.replace('[^a-z#@ ]','')\n",
    "d=docs1_clean.str.split(' ')\n",
    "wd=d.tolist()\n",
    "hashtags=[]\n",
    "for row in wd:\n",
    "    row_hashtags=[word for word in row if word.startswith('#')]\n",
    "    hashtags.extend(row_hashtags)"
   ]
  },
  {
   "cell_type": "code",
   "execution_count": 225,
   "metadata": {},
   "outputs": [
    {
     "data": {
      "text/plain": [
       "#sandeshsoldiers         108\n",
       "#mannkibaat               91\n",
       "#tirangayatra             84\n",
       "#yogaday                  53\n",
       "#transformingindia        52\n",
       "#idy                      44\n",
       "#mycleanindia             24\n",
       "#rio                      19\n",
       "#                         14\n",
       "#digidhanmela             10\n",
       "#happydiwali               9\n",
       "#yoga                      9\n",
       "#presidentmukherjee        9\n",
       "#iyd                       9\n",
       "#paralympics               9\n",
       "#diwali                    8\n",
       "#swachhbharat              8\n",
       "#internationalyogaday      7\n",
       "#republicday               5\n",
       "#swachhbharatabhiyan       4\n",
       "dtype: int64"
      ]
     },
     "execution_count": 225,
     "metadata": {},
     "output_type": "execute_result"
    }
   ],
   "source": [
    "top_hashtags=pd.Series(hashtags).value_counts().head(20)\n",
    "top_hashtags"
   ]
  },
  {
   "cell_type": "code",
   "execution_count": 232,
   "metadata": {},
   "outputs": [
    {
     "data": {
      "text/plain": [
       "<matplotlib.axes._subplots.AxesSubplot at 0x45ca70b8>"
      ]
     },
     "execution_count": 232,
     "metadata": {},
     "output_type": "execute_result"
    },
    {
     "data": {
      "image/png": "[encoded data removed]",
      "text/plain": [
       "<Figure size 432x288 with 1 Axes>"
      ]
     },
     "metadata": {
      "needs_background": "light"
     },
     "output_type": "display_data"
    }
   ],
   "source": [
    "hashtags=[]\n",
    "for doc in modi['text'].str.lower().str.replace('[^a-z0-9 #]',''):\n",
    "    words=doc.split(' ')\n",
    "    tweet_hashtags=[word for word in words if word.startswith('#')]\n",
    "    hashtags.extend(tweet_hashtags)\n",
    "pd.Series(hashtags).value_counts().head(20)[::-1].plot.barh()\n",
    "#sandesh2soldiers  is the top tweet"
   ]
  },
  {
   "cell_type": "code",
   "execution_count": 221,
   "metadata": {},
   "outputs": [],
   "source": []
  },
  {
   "cell_type": "code",
   "execution_count": 222,
   "metadata": {},
   "outputs": [],
   "source": []
  },
  {
   "cell_type": "code",
   "execution_count": null,
   "metadata": {},
   "outputs": [],
   "source": []
  },
  {
   "cell_type": "code",
   "execution_count": null,
   "metadata": {},
   "outputs": [],
   "source": []
  }
 ],
 "metadata": {
  "kernelspec": {
   "display_name": "Python 3",
   "language": "python",
   "name": "python3"
  },
  "language_info": {
   "codemirror_mode": {
    "name": "ipython",
    "version": 3
   },
   "file_extension": ".py",
   "mimetype": "text/x-python",
   "name": "python",
   "nbconvert_exporter": "python",
   "pygments_lexer": "ipython3",
   "version": "3.7.1"
  }
 },
 "nbformat": 4,
 "nbformat_minor": 2
}
