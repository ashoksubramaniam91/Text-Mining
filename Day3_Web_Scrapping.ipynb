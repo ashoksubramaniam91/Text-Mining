{
 "cells": [
  {
   "cell_type": "code",
   "execution_count": 1,
   "metadata": {},
   "outputs": [
    {
     "data": {
      "text/plain": [
       "'C:\\\\Users\\\\Ashok\\\\Desktop\\\\Text_Mining'"
      ]
     },
     "execution_count": 1,
     "metadata": {},
     "output_type": "execute_result"
    }
   ],
   "source": [
    "import os\n",
    "os.getcwd()"
   ]
  },
  {
   "cell_type": "code",
   "execution_count": 2,
   "metadata": {},
   "outputs": [],
   "source": [
    "import pandas as pd\n",
    "import numpy as np"
   ]
  },
  {
   "cell_type": "code",
   "execution_count": 3,
   "metadata": {},
   "outputs": [],
   "source": [
    "#!pip install selenium"
   ]
  },
  {
   "cell_type": "code",
   "execution_count": 4,
   "metadata": {},
   "outputs": [],
   "source": [
    "from selenium import webdriver"
   ]
  },
  {
   "cell_type": "code",
   "execution_count": 5,
   "metadata": {},
   "outputs": [],
   "source": [
    "browser=webdriver.Chrome()"
   ]
  },
  {
   "cell_type": "code",
   "execution_count": 6,
   "metadata": {},
   "outputs": [],
   "source": [
    "url='https://www.zomato.com/bangalore/great-food-no-bull'"
   ]
  },
  {
   "cell_type": "code",
   "execution_count": 7,
   "metadata": {},
   "outputs": [],
   "source": [
    "browser.get(url)"
   ]
  },
  {
   "cell_type": "code",
   "execution_count": 8,
   "metadata": {},
   "outputs": [],
   "source": [
    "#browser.find_element('//*[@class='res_title']')"
   ]
  },
  {
   "cell_type": "code",
   "execution_count": 9,
   "metadata": {},
   "outputs": [
    {
     "data": {
      "text/plain": [
       "153"
      ]
     },
     "execution_count": 9,
     "metadata": {},
     "output_type": "execute_result"
    }
   ],
   "source": [
    "titles=browser.find_elements_by_css_selector('div.res_title') #there are 153 restaurants in this web page\n",
    "len(titles)"
   ]
  },
  {
   "cell_type": "code",
   "execution_count": 10,
   "metadata": {},
   "outputs": [],
   "source": [
    "#from this tags we want all the info like restaurant names which are text, and it is there in clas also"
   ]
  },
  {
   "cell_type": "code",
   "execution_count": 11,
   "metadata": {},
   "outputs": [
    {
     "name": "stdout",
     "output_type": "stream",
     "text": [
      "Loft\n",
      "Let's Souffle\n",
      "The Twisted Desi\n",
      "Brew and Barbeque - A...\n",
      "By Chance\n",
      "Output Bengaluru\n",
      "The Pallet\n",
      "Olive Bar And Kitchen\n",
      "ShakesBierre\n",
      "The Pizza Bakery\n",
      "The Big Barbeque\n",
      "Sea Lions BBQ & Grills\n",
      "Sixth Avenue Cafe And...\n",
      "Sea Rock\n",
      "Galito's\n",
      "Kurtoskalacs\n",
      "Brahmin's Coffee Bar\n",
      "Chai Days\n",
      "Milano Ice Cream\n",
      "MISU\n",
      "Sidewalk - The Garden Bar\n",
      "Cloud Cafe\n",
      "Chikkanna Tiffin Room\n",
      "Byg Brewski Brewing Company\n",
      "The Black Pearl\n",
      "Malleshwaram Dosa Corner\n",
      "Opus Food Stories\n",
      "Punjab Grill\n",
      "Saffron - Radisson Blu\n",
      "Maziga\n",
      "The Hole in the Wall Cafe\n",
      "Toit\n",
      "Dock Frost'd\n",
      "Toast & Tonic\n",
      "CTR\n",
      "Burma Burma\n",
      "Baar Union\n",
      "Corner House Ice Cream\n",
      "Punjab Grill\n",
      "The Boozy Griffin\n",
      "Melange - Radisson Blu\n",
      "House Of Commons\n",
      "Secret Of Bangalore\n",
      "The Permit Room\n",
      "Hard Rock Cafe\n",
      "Chili's American Grill & Bar\n",
      "Mavalli Tiffin Room (MTR)\n",
      "Rolls & Bowls\n",
      "3B's - Buddies, Bar &...\n",
      "Food Coma\n",
      "Onesta\n",
      "O.G. Variar & Sons\n",
      "Santé Spa Cuisine\n",
      "The Fatty Bao - Asian...\n",
      "One For The Road\n",
      "The Globe Grub\n",
      "Sharief Bhai\n",
      "Flechazo\n",
      "Polar Bear\n",
      "XOOX Brewmill\n",
      "Arbor Brewing Company\n",
      "AB's - Absolute Barbecues\n",
      "Simon Says Brew Works\n",
      "Seven Ate Nine\n",
      "Hunger Camp\n",
      "Via Milano\n",
      "Belgian Waffle Factory\n",
      "Imperio Restaurant\n",
      "Republic Of Noodles - Lemon...\n",
      "The Terrace at Gilly's...\n",
      "Bloomsbury's Global Kitchen...\n",
      "Lot Like Crepes\n",
      "Hammered\n",
      "Fenny's Lounge And Kitchen\n",
      "Arogya Ahaara\n",
      "Birinz\n",
      "Deja Vu Buffet Bar\n",
      "Smoke House Deli\n",
      "The Asian Curry House\n",
      "Raghavendra Tiffin\n",
      "Vanilla Sky\n",
      "Stoner\n",
      "Rim Naam - The Oberoi\n",
      "1131 Bar + Kitchen\n",
      "XO Belgian Waffle\n",
      "Buff Buffet Buff\n",
      "Vidyarthi Bhavan\n",
      "Stories\n",
      "Communiti\n",
      "Black Deer\n",
      "The Blue Wagon - Kitchen\n",
      "Pasta Street\n",
      "Dyu Art Cafe\n",
      "Veena Stores\n",
      "Truffles\n",
      "Mudpipe Cafe\n",
      "Chianti\n",
      "Fabelle Chocolate Boutique...\n",
      "Sharon Tea Stall\n",
      "Bologna\n",
      "Roots\n",
      "Windmills Craftworks\n",
      "Karavalli - The Gateway Hotel\n",
      "Mainland China\n",
      "Fava Bistro\n",
      "Apsara Ice Creams\n",
      "You Mee\n",
      "Nasi And Mee\n",
      "Lavonne\n",
      "ECHOES Koramangala\n",
      "The London Curry House -...\n",
      "Meghana Foods\n",
      "Sultans of Spice\n",
      "Shao - Radisson Blu\n",
      "Barbeque Nation\n",
      "Bengaluru Cafe\n",
      "Oota Bangalore\n",
      "The Reservoire\n",
      "Tipsy Bull - The Bar Exchange\n",
      "Brik Oven\n",
      "The Hobbit Cafe\n",
      "BelgYum\n",
      "Gilly's Restobar\n",
      "Sly Granny - The Community...\n",
      "Red Rhino\n",
      "TBC Sky Lounge\n",
      "Mahjong Room - WelcomHotel...\n",
      "Caperberry\n",
      "Lush - Renaissance Hotel...\n",
      "Alba - JW Marriott Bengaluru\n",
      "Karma Kaapi\n",
      "Biergarten\n",
      "Here & Now\n",
      "Levitate Brewery and Kitchen\n",
      "Toscano\n",
      "Prost Brew Pub\n",
      "Aligarh House\n",
      "The Pancake Story\n",
      "Natural Ice Cream\n",
      "Bamboo Hut\n",
      "Big Pitcher\n",
      "Taaza Thindi\n",
      "Chinita Real Mexican Food\n",
      "Barbecue by Punjab Grill\n",
      "Punjab Bistro\n",
      "Social\n",
      "Yauatcha\n",
      "Namma SLN\n",
      "Shakes Theory\n",
      "Makers of Milkshakes\n",
      "Smoor\n",
      "eat.fit\n",
      "Mugful Of Stories\n"
     ]
    }
   ],
   "source": [
    "for rest in titles:\n",
    "    print(rest.text)"
   ]
  },
  {
   "cell_type": "code",
   "execution_count": 12,
   "metadata": {},
   "outputs": [
    {
     "data": {
      "text/plain": [
       "['Loft',\n",
       " \"Let's Souffle\",\n",
       " 'The Twisted Desi',\n",
       " 'Brew and Barbeque - A...',\n",
       " 'By Chance']"
      ]
     },
     "execution_count": 12,
     "metadata": {},
     "output_type": "execute_result"
    }
   ],
   "source": [
    "res_titles=[res.text for res in titles]\n",
    "res_titles[:5]  #list comprehension"
   ]
  },
  {
   "cell_type": "code",
   "execution_count": 13,
   "metadata": {},
   "outputs": [
    {
     "data": {
      "text/plain": [
       "['Loft',\n",
       " \"Let's Souffle\",\n",
       " 'The Twisted Desi',\n",
       " 'Brew and Barbeque - A Microbrewery Pub',\n",
       " 'By Chance']"
      ]
     },
     "execution_count": 13,
     "metadata": {},
     "output_type": "execute_result"
    }
   ],
   "source": [
    "res_titles=[res.get_attribute('title') for res in titles]\n",
    "res_titles[:5] "
   ]
  },
  {
   "cell_type": "code",
   "execution_count": 14,
   "metadata": {},
   "outputs": [],
   "source": [
    "location=browser.find_elements_by_css_selector('div.nowrap.grey-text.fontsize5.ttupper')\n",
    "#if class name is seperated by space use . inbetween "
   ]
  },
  {
   "cell_type": "code",
   "execution_count": 15,
   "metadata": {},
   "outputs": [
    {
     "data": {
      "text/plain": [
       "153"
      ]
     },
     "execution_count": 15,
     "metadata": {},
     "output_type": "execute_result"
    }
   ],
   "source": [
    "len(location)"
   ]
  },
  {
   "cell_type": "code",
   "execution_count": 16,
   "metadata": {},
   "outputs": [
    {
     "data": {
      "text/plain": [
       "['KORAMANGALA 6TH BLOCK, BANGALORE',\n",
       " 'KORAMANGALA 5TH BLOCK, BANGALORE',\n",
       " 'INDIRANAGAR, BANGALORE',\n",
       " 'SOUL SPACE ARENA MALL, MARATHAHALLI, BANGALORE',\n",
       " 'BRIGADE ROAD, BANGALORE']"
      ]
     },
     "execution_count": 16,
     "metadata": {},
     "output_type": "execute_result"
    }
   ],
   "source": [
    "res_locations=[res.text for res in location]\n",
    "res_locations[:5]"
   ]
  },
  {
   "cell_type": "code",
   "execution_count": 17,
   "metadata": {},
   "outputs": [
    {
     "data": {
      "text/plain": [
       "153"
      ]
     },
     "execution_count": 17,
     "metadata": {},
     "output_type": "execute_result"
    }
   ],
   "source": [
    "a_tags=browser.find_elements_by_css_selector('a.relative.top-res-box-bg.pl10.ptop0')\n",
    "len(a_tags)"
   ]
  },
  {
   "cell_type": "code",
   "execution_count": 18,
   "metadata": {},
   "outputs": [
    {
     "data": {
      "text/plain": [
       "['https://www.zomato.com/bangalore/loft-koramangala-6th-block-bangalore?zrp_bid=303385&zrp_pid=14&zrp_cid=361818',\n",
       " 'https://www.zomato.com/bangalore/lets-souffle-koramangala-5th-block-bangalore?zrp_bid=293273&zrp_pid=14&zrp_cid=356362',\n",
       " 'https://www.zomato.com/bangalore/the-twisted-desi-indiranagar-bangalore?zrp_bid=267611&zrp_pid=14&zrp_cid=343069',\n",
       " 'https://www.zomato.com/bangalore/brew-and-barbeque-a-microbrewery-pub-marathahalli-bangalore?zrp_bid=304767&zrp_pid=14&zrp_cid=362424',\n",
       " 'https://www.zomato.com/bangalore/by-chance-brigade-road-bangalore?zrp_bid=279150&zrp_pid=14&zrp_cid=348492']"
      ]
     },
     "execution_count": 18,
     "metadata": {},
     "output_type": "execute_result"
    }
   ],
   "source": [
    "res_url=[tag.get_attribute('href') for tag in a_tags]\n",
    "res_url[:5]"
   ]
  },
  {
   "cell_type": "code",
   "execution_count": 19,
   "metadata": {},
   "outputs": [],
   "source": [
    "restaurants=pd.DataFrame({'title':res_titles,'location':res_locations,'Url':res_url})"
   ]
  },
  {
   "cell_type": "code",
   "execution_count": 20,
   "metadata": {},
   "outputs": [
    {
     "data": {
      "text/plain": [
       "(153, 3)"
      ]
     },
     "execution_count": 20,
     "metadata": {},
     "output_type": "execute_result"
    }
   ],
   "source": [
    "restaurants.shape"
   ]
  },
  {
   "cell_type": "code",
   "execution_count": 21,
   "metadata": {},
   "outputs": [
    {
     "data": {
      "text/html": [
       "<div>\n",
       "<style scoped>\n",
       "    .dataframe tbody tr th:only-of-type {\n",
       "        vertical-align: middle;\n",
       "    }\n",
       "\n",
       "    .dataframe tbody tr th {\n",
       "        vertical-align: top;\n",
       "    }\n",
       "\n",
       "    .dataframe thead th {\n",
       "        text-align: right;\n",
       "    }\n",
       "</style>\n",
       "<table border=\"1\" class=\"dataframe\">\n",
       "  <thead>\n",
       "    <tr style=\"text-align: right;\">\n",
       "      <th></th>\n",
       "      <th>title</th>\n",
       "      <th>location</th>\n",
       "      <th>Url</th>\n",
       "    </tr>\n",
       "  </thead>\n",
       "  <tbody>\n",
       "    <tr>\n",
       "      <th>0</th>\n",
       "      <td>Loft</td>\n",
       "      <td>KORAMANGALA 6TH BLOCK, BANGALORE</td>\n",
       "      <td>https://www.zomato.com/bangalore/loft-koramang...</td>\n",
       "    </tr>\n",
       "    <tr>\n",
       "      <th>1</th>\n",
       "      <td>Let's Souffle</td>\n",
       "      <td>KORAMANGALA 5TH BLOCK, BANGALORE</td>\n",
       "      <td>https://www.zomato.com/bangalore/lets-souffle-...</td>\n",
       "    </tr>\n",
       "    <tr>\n",
       "      <th>2</th>\n",
       "      <td>The Twisted Desi</td>\n",
       "      <td>INDIRANAGAR, BANGALORE</td>\n",
       "      <td>https://www.zomato.com/bangalore/the-twisted-d...</td>\n",
       "    </tr>\n",
       "    <tr>\n",
       "      <th>3</th>\n",
       "      <td>Brew and Barbeque - A Microbrewery Pub</td>\n",
       "      <td>SOUL SPACE ARENA MALL, MARATHAHALLI, BANGALORE</td>\n",
       "      <td>https://www.zomato.com/bangalore/brew-and-barb...</td>\n",
       "    </tr>\n",
       "    <tr>\n",
       "      <th>4</th>\n",
       "      <td>By Chance</td>\n",
       "      <td>BRIGADE ROAD, BANGALORE</td>\n",
       "      <td>https://www.zomato.com/bangalore/by-chance-bri...</td>\n",
       "    </tr>\n",
       "    <tr>\n",
       "      <th>5</th>\n",
       "      <td>Output Bengaluru</td>\n",
       "      <td>SOUL SPACE ARENA MALL, MARATHAHALLI, BANGALORE</td>\n",
       "      <td>https://www.zomato.com/bangalore/output-bengal...</td>\n",
       "    </tr>\n",
       "    <tr>\n",
       "      <th>6</th>\n",
       "      <td>The Pallet</td>\n",
       "      <td>WHITEFIELD, BANGALORE</td>\n",
       "      <td>https://www.zomato.com/bangalore/the-pallet-wh...</td>\n",
       "    </tr>\n",
       "    <tr>\n",
       "      <th>7</th>\n",
       "      <td>Olive Bar And Kitchen</td>\n",
       "      <td>RICHMOND ROAD, BANGALORE</td>\n",
       "      <td>https://www.zomato.com/bangalore/olive-bar-and...</td>\n",
       "    </tr>\n",
       "    <tr>\n",
       "      <th>8</th>\n",
       "      <td>ShakesBierre</td>\n",
       "      <td>EVA MALL, BRIGADE ROAD, BANGALORE</td>\n",
       "      <td>https://www.zomato.com/bangalore/shakesbierre-...</td>\n",
       "    </tr>\n",
       "    <tr>\n",
       "      <th>9</th>\n",
       "      <td>The Pizza Bakery</td>\n",
       "      <td>INDIRANAGAR, BANGALORE</td>\n",
       "      <td>https://www.zomato.com/bangalore/the-pizza-bak...</td>\n",
       "    </tr>\n",
       "  </tbody>\n",
       "</table>\n",
       "</div>"
      ],
      "text/plain": [
       "                                    title  \\\n",
       "0                                    Loft   \n",
       "1                           Let's Souffle   \n",
       "2                        The Twisted Desi   \n",
       "3  Brew and Barbeque - A Microbrewery Pub   \n",
       "4                               By Chance   \n",
       "5                        Output Bengaluru   \n",
       "6                              The Pallet   \n",
       "7                   Olive Bar And Kitchen   \n",
       "8                            ShakesBierre   \n",
       "9                        The Pizza Bakery   \n",
       "\n",
       "                                         location  \\\n",
       "0                KORAMANGALA 6TH BLOCK, BANGALORE   \n",
       "1                KORAMANGALA 5TH BLOCK, BANGALORE   \n",
       "2                          INDIRANAGAR, BANGALORE   \n",
       "3  SOUL SPACE ARENA MALL, MARATHAHALLI, BANGALORE   \n",
       "4                         BRIGADE ROAD, BANGALORE   \n",
       "5  SOUL SPACE ARENA MALL, MARATHAHALLI, BANGALORE   \n",
       "6                           WHITEFIELD, BANGALORE   \n",
       "7                        RICHMOND ROAD, BANGALORE   \n",
       "8               EVA MALL, BRIGADE ROAD, BANGALORE   \n",
       "9                          INDIRANAGAR, BANGALORE   \n",
       "\n",
       "                                                 Url  \n",
       "0  https://www.zomato.com/bangalore/loft-koramang...  \n",
       "1  https://www.zomato.com/bangalore/lets-souffle-...  \n",
       "2  https://www.zomato.com/bangalore/the-twisted-d...  \n",
       "3  https://www.zomato.com/bangalore/brew-and-barb...  \n",
       "4  https://www.zomato.com/bangalore/by-chance-bri...  \n",
       "5  https://www.zomato.com/bangalore/output-bengal...  \n",
       "6  https://www.zomato.com/bangalore/the-pallet-wh...  \n",
       "7  https://www.zomato.com/bangalore/olive-bar-and...  \n",
       "8  https://www.zomato.com/bangalore/shakesbierre-...  \n",
       "9  https://www.zomato.com/bangalore/the-pizza-bak...  "
      ]
     },
     "execution_count": 21,
     "metadata": {},
     "output_type": "execute_result"
    }
   ],
   "source": [
    "restaurants.head(10)"
   ]
  },
  {
   "cell_type": "code",
   "execution_count": 22,
   "metadata": {},
   "outputs": [],
   "source": [
    "url=restaurants.iloc[0]['Url']\n",
    "browser.get(url) #opening the first url"
   ]
  },
  {
   "cell_type": "code",
   "execution_count": 23,
   "metadata": {},
   "outputs": [
    {
     "data": {
      "text/plain": [
       "'https://www.zomato.com/bangalore/loft-koramangala-6th-block-bangalore?zrp_bid=303385&zrp_pid=14&zrp_cid=361818'"
      ]
     },
     "execution_count": 23,
     "metadata": {},
     "output_type": "execute_result"
    }
   ],
   "source": [
    "url"
   ]
  },
  {
   "cell_type": "code",
   "execution_count": 24,
   "metadata": {},
   "outputs": [],
   "source": [
    "#from this we can get user profile, how many reiews they have given, rating, how many followers"
   ]
  },
  {
   "cell_type": "code",
   "execution_count": 25,
   "metadata": {},
   "outputs": [
    {
     "data": {
      "text/plain": [
       "['Suman Varandani',\n",
       " 'Shivika',\n",
       " 'Bhavyashree Naidu',\n",
       " 'Sahil Shekar',\n",
       " 'Divya Srivastava [Kitchen Queen]',\n",
       " 'Disha Premkumar',\n",
       " 'Aniket Kolambkar',\n",
       " 'Anupama Ray',\n",
       " 'Manisha Tripathy',\n",
       " 'Gaurav Gupta']"
      ]
     },
     "execution_count": 25,
     "metadata": {},
     "output_type": "execute_result"
    }
   ],
   "source": [
    "#reviewer_name=browser.find_elements_by_css_selector('a[data-entity_id]')\n",
    "#len(reviewer_name)\n",
    "#names=[tag.text for tag in reviewer_name]\n",
    "#names"
   ]
  },
  {
   "cell_type": "code",
   "execution_count": 28,
   "metadata": {},
   "outputs": [
    {
     "data": {
      "text/html": [
       "<div>\n",
       "<style scoped>\n",
       "    .dataframe tbody tr th:only-of-type {\n",
       "        vertical-align: middle;\n",
       "    }\n",
       "\n",
       "    .dataframe tbody tr th {\n",
       "        vertical-align: top;\n",
       "    }\n",
       "\n",
       "    .dataframe thead th {\n",
       "        text-align: right;\n",
       "    }\n",
       "</style>\n",
       "<table border=\"1\" class=\"dataframe\">\n",
       "  <thead>\n",
       "    <tr style=\"text-align: right;\">\n",
       "      <th></th>\n",
       "      <th>name</th>\n",
       "      <th>review</th>\n",
       "      <th>rating</th>\n",
       "    </tr>\n",
       "  </thead>\n",
       "  <tbody>\n",
       "    <tr>\n",
       "      <th>0</th>\n",
       "      <td>Suman Varandani</td>\n",
       "      <td>RATED\\n  Good food, nice place to hangout. The...</td>\n",
       "      <td>Rated 4.0</td>\n",
       "    </tr>\n",
       "    <tr>\n",
       "      <th>1</th>\n",
       "      <td>Shivika</td>\n",
       "      <td>RATED\\n  A good place to be. Nice vibes and ve...</td>\n",
       "      <td>Rated 4.0</td>\n",
       "    </tr>\n",
       "    <tr>\n",
       "      <th>2</th>\n",
       "      <td>Bhavyashree Naidu</td>\n",
       "      <td>RATED\\n  I and my friends friends went here fo...</td>\n",
       "      <td>Rated 4.0</td>\n",
       "    </tr>\n",
       "    <tr>\n",
       "      <th>3</th>\n",
       "      <td>Sahil Shekar</td>\n",
       "      <td>RATED\\n  This place is AMAZING! Extremely well...</td>\n",
       "      <td>Rated 5.0</td>\n",
       "    </tr>\n",
       "    <tr>\n",
       "      <th>4</th>\n",
       "      <td>Divya Srivastava [Kitchen Queen]</td>\n",
       "      <td>RATED\\n  Zee loft is my go to place for partyi...</td>\n",
       "      <td>Rated 4.0</td>\n",
       "    </tr>\n",
       "  </tbody>\n",
       "</table>\n",
       "</div>"
      ],
      "text/plain": [
       "                               name  \\\n",
       "0                   Suman Varandani   \n",
       "1                           Shivika   \n",
       "2                 Bhavyashree Naidu   \n",
       "3                      Sahil Shekar   \n",
       "4  Divya Srivastava [Kitchen Queen]   \n",
       "\n",
       "                                              review     rating  \n",
       "0  RATED\\n  Good food, nice place to hangout. The...  Rated 4.0  \n",
       "1  RATED\\n  A good place to be. Nice vibes and ve...  Rated 4.0  \n",
       "2  RATED\\n  I and my friends friends went here fo...  Rated 4.0  \n",
       "3  RATED\\n  This place is AMAZING! Extremely well...  Rated 5.0  \n",
       "4  RATED\\n  Zee loft is my go to place for partyi...  Rated 4.0  "
      ]
     },
     "execution_count": 28,
     "metadata": {},
     "output_type": "execute_result"
    }
   ],
   "source": [
    "reviewer_name=browser.find_elements_by_css_selector('a[data-entity_id]')\n",
    "names=[tag.text for tag in reviewer_name]\n",
    "\n",
    "rev_tags=browser.find_elements_by_css_selector('div.rev-text')\n",
    "#len(rev_tags)\n",
    "ratings=[]\n",
    "reviews=[]\n",
    "for tag in rev_tags:\n",
    "    rating=tag.find_element_by_css_selector('div').get_attribute('aria-label')\n",
    "    ratings.append(rating)\n",
    "    \n",
    "    review=tag.text\n",
    "    reviews.append(review)\n",
    "reviews=pd.DataFrame({'name':names,'review':reviews,'rating':ratings})\n",
    "reviews.head()"
   ]
  },
  {
   "cell_type": "code",
   "execution_count": null,
   "metadata": {},
   "outputs": [],
   "source": [
    "df_reviews=pd.DataFrame()\n",
    "for restaurant in restaurants.iterrows():\n",
    "    url=restaurant['url']\n",
    "    browser.get(url)\n",
    "    ##get reviews form this url\n",
    "    #append the dataframe ro df_reviews"
   ]
  },
  {
   "cell_type": "code",
   "execution_count": null,
   "metadata": {},
   "outputs": [],
   "source": []
  },
  {
   "cell_type": "code",
   "execution_count": null,
   "metadata": {},
   "outputs": [],
   "source": []
  }
 ],
 "metadata": {
  "kernelspec": {
   "display_name": "Python 3",
   "language": "python",
   "name": "python3"
  },
  "language_info": {
   "codemirror_mode": {
    "name": "ipython",
    "version": 3
   },
   "file_extension": ".py",
   "mimetype": "text/x-python",
   "name": "python",
   "nbconvert_exporter": "python",
   "pygments_lexer": "ipython3",
   "version": "3.7.1"
  }
 },
 "nbformat": 4,
 "nbformat_minor": 2
}
