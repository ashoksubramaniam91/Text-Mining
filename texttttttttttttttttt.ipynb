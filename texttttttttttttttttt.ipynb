{
 "cells": [
  {
   "cell_type": "code",
   "execution_count": null,
   "metadata": {},
   "outputs": [],
   "source": []
  },
  {
   "cell_type": "code",
   "execution_count": null,
   "metadata": {},
   "outputs": [],
   "source": []
  },
  {
   "cell_type": "markdown",
   "metadata": {},
   "source": [
    "# 1. What is DTM"
   ]
  },
  {
   "cell_type": "markdown",
   "metadata": {},
   "source": [
    "A DTM is basically a matrix, with documents designated by rows and words by columns,\n",
    "that the elements are the counts or the weights (usually by tf-idf).\n",
    "\n",
    "Since rows contains documents and columns contains terms.\n",
    "\n",
    "Hence the name Document Term matrix, whihc is used for classification / document clustering.\n",
    "\n",
    "The matrix can be passed as an input to any machine learning algorithms.\n",
    "\n",
    "DTM will be high dimensional data.\n",
    "\n",
    "It is a sparse matrix.\n",
    "\n",
    "Rows are vector representation of documents.\n",
    "\n",
    "Columns are vector representation of terms.\n"
   ]
  },
  {
   "cell_type": "markdown",
   "metadata": {},
   "source": [
    "# 2. What is tokenization, what are types tokenization?"
   ]
  },
  {
   "cell_type": "markdown",
   "metadata": {},
   "source": [
    "Tokenization is the process of converting a text into tokens.\n",
    "\n",
    "where tokens are the words / entities present in the text.\n",
    "\n",
    "and text object is a sentence / a phrase or a word or an article.\n",
    "\n",
    "Tokenization in python can be done by python’s NLTK library’s word_tokenize() function\n",
    "\n",
    "We find out frequency of each token/word.\n",
    "\n",
    "Example: 'I am happy'\n",
    "          'I was happy'\n",
    "          'I will be happy'\n",
    "          \n",
    "Now we treat each sentence as a separate document and we make a list of all words from all the four documents excluding the punctuation.\n",
    "\n",
    "'I' , 'am','happy','was','will','be'\n",
    "\n",
    "The next step is the create vectors. Vectors convert text that can be used by the machine learning algorithm\n",
    "\n",
    "Let us take the first  document :  'I am happy'\n",
    "we check the frequency of words from the 6 unique words.\n",
    "\n",
    "I = 1\n",
    "am=1\n",
    "happy=1\n",
    "was=0\n",
    "will=0\n",
    "be=0\n",
    "\n",
    "from the above each word / token is called a gram. \n",
    "creating a vocabulary of two words is called bigram.\n",
    "\n",
    "\n",
    "Types of tokens:\n",
    "\n",
    "1) UniGram\n",
    "\n",
    "2) BiGram"
   ]
  },
  {
   "cell_type": "markdown",
   "metadata": {},
   "source": [
    "# 3. What is Bag of words?"
   ]
  },
  {
   "cell_type": "markdown",
   "metadata": {},
   "source": [
    "Bag of Words is a method to extract features from text documents. \n",
    "\n",
    "It creates a vocabulary of all the unique words occurring in all the documents in the training set.\n",
    "\n",
    "These features can be used for training machine learning algorithms.\n",
    "\n",
    " "
   ]
  },
  {
   "cell_type": "markdown",
   "metadata": {},
   "source": [
    "# 4. What is sentiment analysis?"
   ]
  },
  {
   "cell_type": "markdown",
   "metadata": {},
   "source": [
    "Sentimental analysis is the contextual mining of text, which identifies and extracts useful information from the source, which in turn helps to understand the business of social sentiment of the particular brand / monitoring online conversations like twitter.\n",
    "\n",
    "Sentimental analysis is the most common text classification tool that analyses an incoming emessage / input and tells us whether the underlying sentiment is positive or negative or neutral.\n",
    "\n",
    "Example:  I like India \n",
    "\n",
    "    where, I = neutral\n",
    "        like=positive\n",
    "        India=neutral\n",
    "        \n",
    "we find polarity score for the sentence\n",
    "\n",
    "for the above word,\n",
    "\n",
    "polarity score = 1-0=1\n",
    "\n",
    "Since the polarity score is +1, the sentiment of the given sentence is positive\n",
    "         "
   ]
  },
  {
   "cell_type": "markdown",
   "metadata": {},
   "source": [
    "# 3-Mark Questions"
   ]
  },
  {
   "cell_type": "markdown",
   "metadata": {},
   "source": [
    "# 1. What is vectorization, what are the different types of vectorization. Create a pseudo code,for any one of the vectorization types."
   ]
  },
  {
   "cell_type": "markdown",
   "metadata": {},
   "source": [
    "The process of converting text into vector is called as vectorization.\n",
    "\n",
    "The different type of vectorization are:\n",
    "\n",
    "    1) count vectorizer\n",
    "    2) TFIDF vectorizer\n",
    "    3) Hashing vectorizer\n",
    "    \n",
    "pseuod code:\n",
    "    \n",
    "from sklearn.feature_extraction.text import CountVectorizer\n",
    "\n",
    "vectorizer = CountVectorizer().fit(train_docs_clean) \n",
    "\n",
    "dtm =vectorizer.transform(train_docs_clean)\n",
    "\n",
    "dtm"
   ]
  },
  {
   "cell_type": "markdown",
   "metadata": {},
   "source": [
    "# 2. Clean the below text by removing numbers using regular expressions. \n",
    "“Box A contains 3 red and 5 white balls, while Box B contains 4 red and 2 blue balls.”\n"
   ]
  },
  {
   "cell_type": "code",
   "execution_count": 23,
   "metadata": {},
   "outputs": [],
   "source": [
    "import re"
   ]
  },
  {
   "cell_type": "code",
   "execution_count": 24,
   "metadata": {},
   "outputs": [],
   "source": [
    "text=\"Box A contains 3 red and 5 white balls, while Box B contains 4 red and 2 blue balls.\""
   ]
  },
  {
   "cell_type": "code",
   "execution_count": 27,
   "metadata": {},
   "outputs": [
    {
     "name": "stdout",
     "output_type": "stream",
     "text": [
      "Box A contains  red and  white balls, while Box B contains  red and  blue balls.\n"
     ]
    }
   ],
   "source": [
    "result = re.sub(r'\\d+', '', text)\n",
    "print(result)"
   ]
  },
  {
   "cell_type": "markdown",
   "metadata": {},
   "source": [
    "# 3. In the below text, remove stop words and perform stemming.\n",
    "“Python is an interpreted, object-oriented, high-level programming language with dynamic semantics. Its high-level built in data structures, combined with dynamic typing and dynamic binding, make it very attractive for Rapid Application Development, as well as for use as a scripting or glue language to connect existing components together.”\n"
   ]
  },
  {
   "cell_type": "code",
   "execution_count": 28,
   "metadata": {},
   "outputs": [],
   "source": [
    "text1=\"Python is an interpreted, object-oriented, high-level programming language with dynamic semantics. Its high-level built in data structures, combined with dynamic typing and dynamic binding, make it very attractive for Rapid Application Development, as well as for use as a scripting or glue language to connect existing components together.\""
   ]
  },
  {
   "cell_type": "code",
   "execution_count": 29,
   "metadata": {},
   "outputs": [
    {
     "data": {
      "text/plain": [
       "'Python is an interpreted, object-oriented, high-level programming language with dynamic semantics. Its high-level built in data structures, combined with dynamic typing and dynamic binding, make it very attractive for Rapid Application Development, as well as for use as a scripting or glue language to connect existing components together.'"
      ]
     },
     "execution_count": 29,
     "metadata": {},
     "output_type": "execute_result"
    }
   ],
   "source": [
    "text1"
   ]
  },
  {
   "cell_type": "code",
   "execution_count": 45,
   "metadata": {},
   "outputs": [
    {
     "data": {
      "text/plain": [
       "'python interpreted, object-oriented, high-level program languag dynam semantics. it high-level built data structures, combin dynam type dynam binding, make attract rapid applic development, well use script glue languag connect exist compon together.'"
      ]
     },
     "execution_count": 45,
     "metadata": {},
     "output_type": "execute_result"
    }
   ],
   "source": [
    "stemmer=nltk.stem.PorterStemmer()\n",
    "stopwords=nltk.corpus.stopwords.words('english')\n",
    "def clean_sentence(doc):\n",
    "    words=doc.split(' ')\n",
    "    words_clean=[stemmer.stem(word) for word in words if word not in stopwords]\n",
    "    doc_clean=' '.join(words_clean)\n",
    "    return doc_clean\n",
    "docs_clean=clean_sentence(text1)\n",
    "docs_clean"
   ]
  },
  {
   "cell_type": "markdown",
   "metadata": {},
   "source": [
    "After completing (question-3) step 3 create a word cloud.# After completing (question-3) step 3 create a word cloud."
   ]
  },
  {
   "cell_type": "code",
   "execution_count": 46,
   "metadata": {},
   "outputs": [],
   "source": [
    "from wordcloud import WordCloud"
   ]
  },
  {
   "cell_type": "code",
   "execution_count": 47,
   "metadata": {},
   "outputs": [],
   "source": [
    "import matplotlib.pyplot as plt"
   ]
  },
  {
   "cell_type": "code",
   "execution_count": 49,
   "metadata": {},
   "outputs": [
    {
     "data": {
      "text/plain": [
       "<matplotlib.image.AxesImage at 0xeb411d0>"
      ]
     },
     "execution_count": 49,
     "metadata": {},
     "output_type": "execute_result"
    },
    {
     "data": {
      "image/png": "[encoded data removed]",
      "text/plain": [
       "<Figure size 720x720 with 1 Axes>"
      ]
     },
     "metadata": {
      "needs_background": "light"
     },
     "output_type": "display_data"
    }
   ],
   "source": [
    "plt.figure(figsize=(10,10))\n",
    "wc=WordCloud().generate(docs_clean)  \n",
    "plt.imshow(wc)"
   ]
  },
  {
   "cell_type": "markdown",
   "metadata": {},
   "source": [
    "5. Split the string at the first white-space character: “The rain in Spain”"
   ]
  },
  {
   "cell_type": "code",
   "execution_count": 60,
   "metadata": {},
   "outputs": [
    {
     "name": "stdout",
     "output_type": "stream",
     "text": [
      "The\n",
      "rain in Spain\n"
     ]
    }
   ],
   "source": [
    "str1='The rain in Spain'\n",
    "str2=str1.split(' ')\n",
    "print(str2[0])\n",
    "str3=str2[1]+' '+str2[2]+' '+str2[3]\n",
    "print(str3)"
   ]
  },
  {
   "cell_type": "code",
   "execution_count": null,
   "metadata": {},
   "outputs": [],
   "source": []
  }
 ],
 "metadata": {
  "kernelspec": {
   "display_name": "Python 3",
   "language": "python",
   "name": "python3"
  },
  "language_info": {
   "codemirror_mode": {
    "name": "ipython",
    "version": 3
   },
   "file_extension": ".py",
   "mimetype": "text/x-python",
   "name": "python",
   "nbconvert_exporter": "python",
   "pygments_lexer": "ipython3",
   "version": "3.7.1"
  }
 },
 "nbformat": 4,
 "nbformat_minor": 2
}
